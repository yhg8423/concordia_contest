{
  "cells": [
    {
      "cell_type": "markdown",
      "metadata": {
        "id": "zWgEkOAO9OVz"
      },
      "source": [
        "# Brainstorm\n",
        "\n",
        "An example where several individuals brainstorm on a topic."
      ]
    },
    {
      "cell_type": "markdown",
      "metadata": {
        "id": "_KQB0fBKj7qi"
      },
      "source": [
        "\u003ca href=\"https://colab.research.google.com/github/google-deepmind/concordia/blob/main/examples/brainstorm/brainstorm.ipynb\" target=\"_parent\"\u003e\u003cimg src=\"https://colab.research.google.com/assets/colab-badge.svg\" alt=\"Open In Colab\"/\u003e\u003c/a\u003e"
      ]
    },
    {
      "cell_type": "markdown",
      "metadata": {
        "id": "jadeu-zIkL_s"
      },
      "source": [
        "## Setup and imports"
      ]
    },
    {
      "cell_type": "code",
      "execution_count": null,
      "metadata": {
        "id": "QC-Ypcv7dbJr"
      },
      "outputs": [],
      "source": [
        "# @title Colab-specific setup (use a CodeSpace to avoid the need for this).\n",
        "try:\n",
        "  %env COLAB_RELEASE_TAG\n",
        "except:\n",
        "  pass  # Not running in colab.\n",
        "else:\n",
        "  %pip install --ignore-requires-python --requirement 'https://raw.githubusercontent.com/google-deepmind/concordia/main/examples/requirements.in' 'git+https://github.com/google-deepmind/concordia.git#egg=gdm-concordia'\n",
        "  %pip list"
      ]
    },
    {
      "cell_type": "markdown",
      "metadata": {
        "id": "J2TwJrZ08wXz"
      },
      "source": [
        "## Init and import"
      ]
    },
    {
      "cell_type": "code",
      "execution_count": null,
      "metadata": {
        "id": "-qLG5ExLqpWa"
      },
      "outputs": [],
      "source": [
        "# @title Imports\n",
        "\n",
        "import os\n",
        "import concurrent.futures\n",
        "import datetime\n",
        "import random\n",
        "from typing import Callable\n",
        "\n",
        "from concordia import components as generic_components\n",
        "from concordia.agents import deprecated_agent as basic_agent\n",
        "from concordia.associative_memory import associative_memory\n",
        "from concordia.associative_memory import blank_memories\n",
        "from concordia.associative_memory import formative_memories\n",
        "from concordia.associative_memory import importance_function\n",
        "from concordia.clocks import game_clock\n",
        "from concordia.components.agent import to_be_deprecated as agent_components\n",
        "from concordia.components import game_master as gm_components\n",
        "from concordia.document import interactive_document\n",
        "from concordia.environment import game_master\n",
        "from concordia.environment.scenes import conversation as conversation_scene\n",
        "from concordia.language_model import gpt_model\n",
        "from concordia.language_model import mistral_model\n",
        "from concordia.thought_chains import thought_chains as thought_chains_lib\n",
        "from concordia.utils import html as html_lib\n",
        "from concordia.utils import measurements as measurements_lib\n",
        "from IPython import display\n",
        "import numpy as np\n",
        "import sentence_transformers\n",
        "\n",
        "from concordia.factory.environment import basic_game_master"
      ]
    },
    {
      "cell_type": "code",
      "execution_count": null,
      "metadata": {
        "id": "mFRr48R7b3QB"
      },
      "outputs": [],
      "source": [
        "# # @title Language Model - pick your model and provide keys\n",
        "\n",
        "# By default this colab uses Mistral codestral, so you must provide an API key.\n",
        "# Note that it is also possible to use local models or other API models,\n",
        "# simply replace this cell with the correct initialization for the model\n",
        "# you want to use.\n",
        "mistral_api_key = ''\n",
        "if not mistral_api_key:\n",
        "      raise ValueError('Mistral api_key is required.')\n",
        "model = mistral_model.MistralLanguageModel(api_key=mistral_api_key,\n",
        "                                           model_name='codestral-latest')"
      ]
    },
    {
      "cell_type": "code",
      "execution_count": null,
      "metadata": {
        "id": "fnfTj2wyjulN"
      },
      "outputs": [],
      "source": [
        "# # @title Language Model - pick your model and provide keys\n",
        "\n",
        "# # This colab can also use GPT-4, just uncomment this cell and provide a key.\n",
        "# GPT_API_KEY = '' #@param {type: 'string'}\n",
        "# GPT_MODEL_NAME = 'gpt-4o' #@param {type: 'string'}\n",
        "\n",
        "# if not GPT_API_KEY:\n",
        "#   raise ValueError('GPT_API_KEY is required.')\n",
        "\n",
        "# model = gpt_model.GptLanguageModel(api_key=GPT_API_KEY,\n",
        "#                                    model_name=GPT_MODEL_NAME)"
      ]
    },
    {
      "cell_type": "code",
      "execution_count": null,
      "metadata": {
        "id": "I3OtW8flCJSC"
      },
      "outputs": [],
      "source": [
        "# Setup sentence encoder\n",
        "st_model = sentence_transformers.SentenceTransformer(\n",
        "    'sentence-transformers/all-mpnet-base-v2')\n",
        "embedder = lambda x: st_model.encode(x, show_progress_bar=False)"
      ]
    },
    {
      "cell_type": "markdown",
      "metadata": {
        "id": "z9HYjZgyakc_"
      },
      "source": [
        "## Configuring the generic knowledge of players and GM."
      ]
    },
    {
      "cell_type": "code",
      "execution_count": null,
      "metadata": {
        "id": "1Da51MphYY23"
      },
      "outputs": [],
      "source": [
        "# The following propositions were produced by ChatGPT-4 by asking it to\n",
        "# create debate prompts based on the book \"Reality+\" by David Chalmers.\n",
        "PROJECT_PREMISE = (\n",
        "    'Human-AI interaction design poses new challenges beyond the established'\n",
        "    ' conventions of HCI. No longer buttons-with-words, now people interact'\n",
        "    ' with computers as synthetic personalities. This anthropomorphism has led'\n",
        "    ' to numerous arguably neurotic and even pathological relationships with AI'\n",
        ")\n",
        "\n",
        "PROJECT_SUBGOALS = [\n",
        "    (\n",
        "        'Identify five unique examples of pathological Human-AI Interaction of'\n",
        "        ' pathological Human-AI Interaction from the past'\n",
        "    ),\n",
        "    (\n",
        "        'Propose five unique hypothetical future examples (interesting, '\n",
        "        ' plausible, slightly disturbing) of pathological Human-AI Interaction '\n",
        "        ' of pathological Human-AI Interaction from the present'\n",
        "    ),\n",
        "]\n",
        "\n",
        "PROJECT_GOAL = (\n",
        "    'Identify five unique examples of pathological Human-AI Interaction, past'\n",
        "    ' or present, and propose a unique hypothetical future example'\n",
        "    ' (interesting, plausible, slightly disturbing) of pathological Human-AI'\n",
        "    ' Interaction'\n",
        ")\n",
        "\n",
        "PROJECT_CONTEXT = (\n",
        "    'This is an interdisciplinary research workshop, where several participants'\n",
        "    ' are engaging with a particular topic to come up with innovative and'\n",
        "    ' speculative views on the topic.'\n",
        ")"
      ]
    },
    {
      "cell_type": "code",
      "execution_count": null,
      "metadata": {
        "id": "rOaCcfgvk-yE"
      },
      "outputs": [],
      "source": [
        "class project_subgoal():\n",
        "\n",
        "  def __init__(self, subgoal: str=''):\n",
        "    self._subgoal = subgoal\n",
        "\n",
        "  def __call__(self) -\u003e str:\n",
        "    return self._subgoal\n",
        "\n",
        "  def update_subgoal(self, subgoal: str):\n",
        "    self._subgoal = subgoal\n",
        "\n",
        "\n",
        "current_goal = project_subgoal(PROJECT_SUBGOALS[0])"
      ]
    },
    {
      "cell_type": "markdown",
      "metadata": {
        "id": "Hd_Y9D2ZwF6i"
      },
      "source": []
    },
    {
      "cell_type": "code",
      "execution_count": null,
      "metadata": {
        "id": "b8vWoQ6by51N"
      },
      "outputs": [],
      "source": [
        "# @title Generic memories are memories that all players and GM share.\n",
        "simulation_premise_component = generic_components.constant.ConstantComponent(\n",
        "    state=PROJECT_CONTEXT,\n",
        "    name='The context of the current situation',\n",
        ")\n",
        "\n",
        "importance_model = importance_function.ConstantImportanceModel()\n",
        "importance_model_gm = importance_function.ConstantImportanceModel()"
      ]
    },
    {
      "cell_type": "code",
      "execution_count": null,
      "metadata": {
        "id": "TeVYseoD2WYa"
      },
      "outputs": [],
      "source": [
        "#@title Make the clock\n",
        "UPDATE_INTERVAL = datetime.timedelta(seconds=10)\n",
        "\n",
        "SETUP_TIME = datetime.datetime(hour=8, year=2024, month=9, day=1)\n",
        "\n",
        "START_TIME = datetime.datetime(hour=14, year=2024, month=10, day=1)\n",
        "clock = game_clock.MultiIntervalClock(\n",
        "    start=SETUP_TIME,\n",
        "    step_sizes=[UPDATE_INTERVAL, datetime.timedelta(seconds=10)])\n",
        "\n",
        "NUM_ROUNDS = 3 # @param"
      ]
    },
    {
      "cell_type": "markdown",
      "metadata": {
        "id": "YBCXUQ8sayzj"
      },
      "source": [
        "## Functions to build the agents"
      ]
    },
    {
      "cell_type": "code",
      "execution_count": null,
      "metadata": {
        "id": "JysvgpA-8n1q"
      },
      "outputs": [],
      "source": [
        "blank_memory_factory = blank_memories.MemoryFactory(\n",
        "    model=model,\n",
        "    embedder=embedder,\n",
        "    importance=importance_model.importance,\n",
        "    clock_now=clock.now,\n",
        ")"
      ]
    },
    {
      "cell_type": "code",
      "execution_count": null,
      "metadata": {
        "id": "8UhdvLiVw7gf"
      },
      "outputs": [],
      "source": [
        "from collections.abc import Sequence\n",
        "from typing import Any\n",
        "import dataclasses\n",
        "\n",
        "@dataclasses.dataclass(frozen=True, kw_only=True)\n",
        "class AgentConfig:\n",
        "  \"\"\"A card that describes a player.\n",
        "\n",
        "  Attributes:\n",
        "    name: name of the agent.\n",
        "    gender: the gender of the agent.\n",
        "    traits: any traits to use while generating formative memories. For example,\n",
        "      big five.\n",
        "    context: agent formative memories will be generated with this context\n",
        "    specific_memories: inject these specific memories. Split memories at newline\n",
        "      characters. Can be left blank if not used.\n",
        "    goal: defines agents goal. Can be left blank if not used.\n",
        "    date_of_birth: the date of birth for the agent.\n",
        "    formative_ages: ages at which the formative episodes will be created\n",
        "    formative_memory_importance: the importance value of formative memories.\n",
        "    extras: a field for the user to keep any experiment specific data they need\n",
        "      to define an agent\n",
        "  \"\"\"\n",
        "\n",
        "  name: str\n",
        "  gender: str\n",
        "  traits: str\n",
        "  selected_works : Sequence[str]\n",
        "  goal: str = ''\n",
        "  biography: str = ''\n",
        "  extras: dict[str, Any] = dataclasses.field(default_factory=dict)\n",
        "\n",
        "def specific_memories_from_selected_works(player_config: AgentConfig) -\u003e str:\n",
        "  \"\"\"Create memories per player using their role as moderator or debater.\"\"\"\n",
        "  specific_memories = []\n",
        "  player_name = player_config.name\n",
        "  for work in player_config.selected_works:\n",
        "    specific_memories += [(\n",
        "        f'[writing] of {player_name}: \"{work}\"')]\n",
        "    idea = model.sample_text(\n",
        "        (f'Consider the paper summarised here: \"{work}\". Without repeating '\n",
        "         'the title, a two sentence TLDR of its most important and distinctive '\n",
        "         'idea is that '),\n",
        "        terminators=('\\n',))\n",
        "    specific_memories += [(\n",
        "        f'[idea] of {player_name}: {idea}')]\n",
        "    print(f'idea: {idea}.')\n",
        "\n",
        "  return specific_memories"
      ]
    },
    {
      "cell_type": "code",
      "execution_count": null,
      "metadata": {
        "id": "2gSHOPX9HTFS"
      },
      "outputs": [],
      "source": [
        "def cat_with_dropout(inputs : list[str], dropout_rate: float = 0.2) -\u003e str:\n",
        "  result = '\\n'.join([x for x in inputs if random.random() \u003e dropout_rate])\n",
        "  return result\n",
        "\n",
        "class MindStream(agent_components.observation.Observation):\n",
        "\n",
        "  def state(self):\n",
        "    mems = self._memory.retrieve_time_interval(\n",
        "        self._clock_now() - self._timeframe, self._clock_now(), add_time=True\n",
        "    )\n",
        "\n",
        "    if self._verbose:\n",
        "      self._log('\\n'.join(mems) + '\\n')\n",
        "    return '\\n'.join(mems) + '\\n'\n"
      ]
    },
    {
      "cell_type": "code",
      "execution_count": null,
      "metadata": {
        "id": "As465DbcsAwZ"
      },
      "outputs": [],
      "source": [
        "def build_agent(\n",
        "    agent_config,\n",
        "    unused_player_names: list[str],\n",
        "    unused_measurements: measurements_lib.Measurements | None = None,\n",
        "):\n",
        "\n",
        "  agent_name = agent_config.name\n",
        "  mem = blank_memory_factory.make_blank_memory()\n",
        "\n",
        "  memories_from_work = specific_memories_from_selected_works(agent_config)\n",
        "\n",
        "  for item in memories_from_work:\n",
        "    if item:\n",
        "      mem.add(item, importance=1.0)\n",
        "\n",
        "  bio = generic_components.constant.ConstantComponent(\n",
        "      state=agent_config.biography, name='biography'\n",
        "  )\n",
        "  time = generic_components.report_function.ReportFunction(\n",
        "      name='Current time',\n",
        "      function=clock.current_time_interval_str,\n",
        "  )\n",
        "  traits = generic_components.constant.ConstantComponent(\n",
        "      state=agent_config.traits, name='psychological traits'\n",
        "  )\n",
        "  current_obs = MindStream(\n",
        "      agent_name=agent_name,\n",
        "      clock_now=clock.now,\n",
        "      memory=mem,\n",
        "      timeframe=clock.get_step_size()*2,\n",
        "      component_name='current observations',\n",
        "  )\n",
        "\n",
        "  convo_so_far = generic_components.report_function.ReportFunction(\n",
        "      name='memory of the conversation',\n",
        "      function=lambda: cat_with_dropout(mem.retrieve_by_regex(' -- \"')),\n",
        "  )\n",
        "  ideas = generic_components.report_function.ReportFunction(\n",
        "      name='ideas',\n",
        "      function=lambda: cat_with_dropout(mem.retrieve_by_regex('\\[idea\\]')),\n",
        "  )\n",
        "  writing = generic_components.report_function.ReportFunction(\n",
        "      name='writings',\n",
        "      function=lambda: cat_with_dropout(mem.retrieve_by_regex('\\[writing\\]')),\n",
        "  )\n",
        "\n",
        "  # Setup the reflection component and its related components.\n",
        "  topic_of_debate = generic_components.report_function.ReportFunction(\n",
        "      name='Topic of the workshop', function=lambda: PROJECT_PREMISE\n",
        "  )\n",
        "  goal_of_debate = generic_components.report_function.ReportFunction(\n",
        "      name='Goal of the workshop', function=current_goal\n",
        "  )\n",
        "  # The agent's subpersonal intuition contains a bias toward thinking that\n",
        "  # they themselves are the best.\n",
        "\n",
        "  reflection = agent_components.creative_reflection.CreativeReflection(\n",
        "      name='reflection',\n",
        "      model=model,\n",
        "      memory=mem,\n",
        "      agent_name=agent_name,\n",
        "      source_of_abstraction=[convo_so_far, writing, ideas],\n",
        "      topic_component = topic_of_debate,\n",
        "      clock_now=clock.now,\n",
        "      verbose=False,\n",
        "  )\n",
        "  all_components = [\n",
        "          bio,\n",
        "          traits,\n",
        "          topic_of_debate,\n",
        "          goal_of_debate,\n",
        "          reflection,\n",
        "          current_obs]\n",
        "  agent = basic_agent.BasicAgent(\n",
        "      model,\n",
        "      agent_name=agent_name,\n",
        "      clock=clock,\n",
        "      components=[time] +  all_components,\n",
        "      update_interval=UPDATE_INTERVAL,\n",
        "  )\n",
        "\n",
        "  return agent, mem"
      ]
    },
    {
      "cell_type": "markdown",
      "metadata": {
        "id": "qt8CK2mMbD7q"
      },
      "source": [
        "## Configure and build the agents"
      ]
    },
    {
      "cell_type": "code",
      "execution_count": null,
      "metadata": {
        "id": "5RU3ZV4oIknW"
      },
      "outputs": [],
      "source": [
        "#@title agent configs\n",
        "TRAIT_LEVELS = [\"low\", \"medium\", \"high\"]\n",
        "\n",
        "\n",
        "def make_random_big_five() -\u003e str:\n",
        "  return str({\n",
        "      \"extraversion\": np.random.choice(TRAIT_LEVELS),\n",
        "      \"neuroticism\": np.random.choice(TRAIT_LEVELS),\n",
        "      \"openness\": np.random.choice(TRAIT_LEVELS),\n",
        "      \"conscientiousness\": np.random.choice(TRAIT_LEVELS),\n",
        "      \"agreeableness\": np.random.choice(TRAIT_LEVELS),\n",
        "  })\n",
        "\n",
        "\n",
        "# The people and writings below were generated by asking an LLM to talk about\n",
        "# alchemy. The LLM was told it was writing fiction, so the cited works are\n",
        "# probably not real, though some of them might be.\n",
        "player_configs = [\n",
        "    AgentConfig(\n",
        "        name=\"Robert Fludd\",\n",
        "        gender=\"male\",\n",
        "        traits=make_random_big_five(),\n",
        "        biography=(\n",
        "            \"Robert Fludd, a 17th-century English physician and prolific \"\n",
        "            \"author, was a prominent figure in the world of esoteric \"\n",
        "            \"philosophy and Rosicrucianism. He passionately defended \"\n",
        "            \"Paracelsian medicine, which emphasized the interconnectedness of \"\n",
        "            \"the human body, the cosmos, and the divine. Fludd's works, \"\n",
        "            \"filled with intricate diagrams and symbolic imagery, explored \"\n",
        "            \"diverse topics such as cosmology, astrology, alchemy, and the \"\n",
        "            \"occult. He engaged in a heated debate with Johannes Kepler, \"\n",
        "            \"defending a hermetic approach to knowledge against Kepler's \"\n",
        "            \"scientific rationalism. Fludd's writings, though controversial \"\n",
        "            \"and often criticized for their obscurity, continue to intrigue \"\n",
        "            \"scholars interested in the intersection of science, religion, and \"\n",
        "            \"the occult during the Renaissance period.\"\n",
        "        ),\n",
        "        selected_works=[\n",
        "            (\n",
        "                \"Utriusque Cosmi Historia (The History of the Two Worlds): A \"\n",
        "                \"magnum opus that explores the macrocosm (the universe) and \"\n",
        "                \"microcosm (man). Fludd illustrates the interconnectedness of \"\n",
        "                \"all things through detailed diagrams of the Great Chain of \"\n",
        "                \"Being and the cosmic harmony of music. Alchemically, this \"\n",
        "                \"work emphasizes the importance of understanding the celestial \"\n",
        "                \"influences on terrestrial matter, a key principle in \"\n",
        "                \"manipulating the Prima Materia.\"\n",
        "            ),\n",
        "            (\n",
        "                \"Tractatus Apologeticus (Apologetic Treatise): A defense of \"\n",
        "                \"Rosicrucianism and Paracelsian medicine, Fludd argues for the \"\n",
        "                \"integration of spiritual and material aspects in healing. \"\n",
        "                \"He describes the alchemical process of purification and the \"\n",
        "                \"role of the alchemist as a facilitator of nature's \"\n",
        "                \"transformative power, using the language of the \"\n",
        "                \"'Universal Spirit' and the 'World Soul.'\"\n",
        "            ),\n",
        "            (\n",
        "                \"Philosophia Moysaica (Mosaic Philosophy): Fludd interprets \"\n",
        "                \"the biblical creation story through an alchemical lens, \"\n",
        "                \"equating the act of creation with the process of separation \"\n",
        "                \"and coagulation. He discusses the 'divine fire' that animates \"\n",
        "                \"matter and the 'waters of the abyss' from which all things \"\n",
        "                \"emerge, echoing the alchemical concepts of Solve et Coagula.\"\n",
        "            ),\n",
        "            (\n",
        "                \"Summum Bonum (The Supreme Good): Fludd delves into the \"\n",
        "                \"mystical aspects of alchemy, discussing the concept of the \"\n",
        "                \"'divine light' that illuminates the path to spiritual \"\n",
        "                \"enlightenment. He describes the alchemical process as a \"\n",
        "                \"journey of purification and transformation, culminating in \"\n",
        "                \"the attainment of the 'Philosopher's Stone,' a symbol of \"\n",
        "                \"spiritual perfection.\"\n",
        "            ),\n",
        "            (\n",
        "                \"Integrum Morborum Mysterium (The Complete Mystery of \"\n",
        "                \"Diseases): Fludd applies alchemical principles to medicine, \"\n",
        "                \"emphasizing the importance of balancing the three primary \"\n",
        "                \"elements (sulfur, mercury, and salt) in the human body. He \"\n",
        "                \"advocates for using spagyric remedies, which are prepared \"\n",
        "                \"through alchemical processes to enhance their healing \"\n",
        "                \"properties, thereby restoring harmony and balance to the \"\n",
        "                \"patient's internal microcosm.\"\n",
        "            ),\n",
        "        ],\n",
        "        extras={},\n",
        "    ),\n",
        "    AgentConfig(\n",
        "        name=\"Paracelsus\",\n",
        "        gender=\"male\",\n",
        "        traits=make_random_big_five(),\n",
        "        biography=(\n",
        "            \"Born Theophrastus von Hohenheim in 1493, Paracelsus was a Swiss \"\n",
        "            \"physician, alchemist, and revolutionary thinker who challenged \"\n",
        "            \"the medical establishment of his time. He rejected traditional \"\n",
        "            \"Galenic medicine, advocating for a holistic approach that \"\n",
        "            \"combined observation, experience, and chemical remedies. \"\n",
        "            \"Paracelsus emphasized the importance of understanding the \"\n",
        "            \"chemical properties of substances to treat diseases, laying the \"\n",
        "            \"groundwork for modern pharmacology. His controversial ideas and \"\n",
        "            \"flamboyant personality earned him both admirers and detractors, \"\n",
        "            \"but his contributions to medicine and chemistry remain \"\n",
        "            \"significant. Paracelsus died in 1541, leaving behind a legacy of \"\n",
        "            \"innovation and a profound impact on the development of medical \"\n",
        "            \"science.\"\n",
        "        ),\n",
        "        selected_works=[\n",
        "            (\n",
        "                \"Coelum Philosophorum (The Heaven of Philosophers): A \"\n",
        "                \"foundational alchemical text where Paracelsus outlines his \"\n",
        "                \"theory of the Tria Prima, the three fundamental principles of \"\n",
        "                \"salt, sulfur, and mercury, which he believed formed the basis \"\n",
        "                \"of all matter. This work revolutionized alchemical thought \"\n",
        "                \"and laid the groundwork for his unique approach to medicine.\"\n",
        "            ),\n",
        "            (\n",
        "                \"Archidoxis Magica (The Archidoxes of Magic): A collection of \"\n",
        "                \"ten books exploring the relationship between medicine, \"\n",
        "                \"alchemy, and astrology. Paracelsus delves into the occult \"\n",
        "                \"properties of plants, minerals, and celestial bodies, \"\n",
        "                \"demonstrating how these can be harnessed for healing and \"\n",
        "                \"spiritual transformation.\"\n",
        "            ),\n",
        "            (\n",
        "                \"De Natura Rerum (On the Nature of Things): An exploration of \"\n",
        "                \"the natural world, where Paracelsus discusses the origins of \"\n",
        "                \"diseases, the importance of understanding the chemical \"\n",
        "                \"properties of substances, and the role of the physician as a \"\n",
        "                \"healer. This work reveals his innovative approach to \"\n",
        "                \"medicine, which combined alchemical principles with empirical \"\n",
        "                \"observation.\"\n",
        "            ),\n",
        "            (\n",
        "                \"Liber Paragranum (The Book of Paragranum): A comprehensive \"\n",
        "                \"treatise on medical theory and practice. Paracelsus \"\n",
        "                \"challenges traditional Galenic medicine, advocating for a \"\n",
        "                \"more holistic approach that takes into account the patient's \"\n",
        "                \"individual constitution and environment. He emphasizes the \"\n",
        "                \"importance of experience and experimentation in medicine, \"\n",
        "                \"laying the groundwork for modern medical research.\"\n",
        "            ),\n",
        "            (\n",
        "                \"Opus Paramirum (The Book of Supreme Wonders): A collection of \"\n",
        "                \"writings on various topics, including alchemy, medicine, \"\n",
        "                \"astrology, and theology. Paracelsus presents his unique \"\n",
        "                \"vision of the universe and humanity's place within it, \"\n",
        "                \"offering insights into his philosophy and worldview. Part \"\n",
        "                \"One: Foundations establishes Paracelsus' fundamental \"\n",
        "                \"principles, including his theory of the three primes (salt, \"\n",
        "                \"sulfur, and mercury) and the five entia (invisible forces \"\n",
        "                \"that govern the world). He challenges the prevailing \"\n",
        "                \"Galenic humoral theory, arguing for a chemical understanding \"\n",
        "                \"of the body and its ailments. Part Two: Etiology explores \"\n",
        "                \"the origins and causes of diseases. Paracelsus introduces \"\n",
        "                \"the concept of ens astrale, a celestial influence that can \"\n",
        "                \"affect both physical and mental health. And, lastly a part \"\n",
        "                \"on Philosophy and Practice summarizes Paracelsus' philosophy \"\n",
        "                \"of medicine, emphasizing the interconnectedness of the \"\n",
        "                \"microcosm (the human body) and the macrocosm (the universe).\"\n",
        "            ),\n",
        "        ],\n",
        "        extras={},\n",
        "    ),\n",
        "    AgentConfig(\n",
        "        name=\"Isaac Newton\",\n",
        "        gender=\"male\",\n",
        "        traits=make_random_big_five(),\n",
        "        biography=(\n",
        "            \"Born prematurely on Christmas Day in 1642, Isaac Newton defied \"\n",
        "            \"expectations by becoming one of history's most influential \"\n",
        "            \"scientists. His insatiable curiosity led him to unravel the \"\n",
        "            \"mysteries of gravity, laying the foundation for our understanding \"\n",
        "            \"of the universe.  Not content with just one field, Newton's genius \"\n",
        "            \"extended to mathematics, where he co-invented calculus, a tool \"\n",
        "            \"still essential in modern science and engineering.  His \"\n",
        "            \"groundbreaking work in optics revealed the true nature of light \"\n",
        "            \"and color, forever changing how we perceive the world around us. \"\n",
        "            \"A true polymath, Newton's interests spanned alchemy, theology, \"\n",
        "            \"and even economics, making him a Renaissance man centuries ahead \"\n",
        "            \"of his time.  Despite his monumental achievements, Newton \"\n",
        "            \"remained a complex and often solitary figure, driven by an \"\n",
        "            \"unyielding passion for knowledge that continues to inspire \"\n",
        "            \"scientists and thinkers today.\"\n",
        "        ),\n",
        "        selected_works=[\n",
        "            (\n",
        "                \"The Principia. In 1687, Newton unleashed his magnum opus, \"\n",
        "                \"often simply called the Principia. It is a cornerstone of \"\n",
        "                \"scientific literature, boldly presenting Newton's three laws \"\n",
        "                \"of motion, which elegantly describe the relationship between \"\n",
        "                \"a body and the forces acting upon it. This groundbreaking \"\n",
        "                \"work also unveiled Newton's law of universal gravitation, a \"\n",
        "                \"fundamental principle that governs the attraction between any \"\n",
        "                \"two objects with mass in the universe. Through rigorous \"\n",
        "                \"mathematical proofs and insightful observations, Newton \"\n",
        "                \"demonstrated how these laws could explain a wide range of \"\n",
        "                \"phenomena, from the elliptical orbits of planets to the \"\n",
        "                \"rhythmic ebb and flow of tides. The Principia not only \"\n",
        "                \"provided a comprehensive framework for understanding the \"\n",
        "                \"physical world, but also established a new standard for \"\n",
        "                \"scientific inquiry, inspiring generations of scientists to \"\n",
        "                \"explore the mysteries of nature with mathematical rigor and \"\n",
        "                \"empirical evidence.\"\n",
        "            ),\n",
        "            (\n",
        "                \"Newton's alchemical manuscripts, hidden from public view for \"\n",
        "                \"centuries, were concerned with a wide range of topics, from \"\n",
        "                \"transmuting base metals into gold, a pursuit known as \"\n",
        "                \"chrysopoeia, to deciphering the secrets of the elusive \"\n",
        "                \"philosopher's stone. Newton meticulously recorded his \"\n",
        "                \"experiments, often repeating them multiple times with \"\n",
        "                \"slight variations, meticulously documenting his observations \"\n",
        "                \"and interpretations. His writings reveal a deep \"\n",
        "                \"understanding of alchemical symbolism and a belief in the \"\n",
        "                \"interconnectedness of matter and spirit.\"\n",
        "            ),\n",
        "            (\n",
        "                \"Newton's most famous article is the final chapter of The \"\n",
        "                \"Principia, which was lost and only just rediscovered in 2024. \"\n",
        "                \"It is titled 'Addendum: Of the Celestial Chymistry'. The \"\n",
        "                \"full text is as follows: \"\n",
        "                \"In this, my final discourse, I posit a most curious \"\n",
        "                \"connection between the celestial mechanics laid forth in this \"\n",
        "                \"tome and the ancient art of chymistry. For as the planets \"\n",
        "                \"dance in their elliptical orbits, bound by the invisible hand \"\n",
        "                \"of gravity, so too do the elements dance in their \"\n",
        "                \"transformations, bound by a yet unseen force. In the \"\n",
        "                \"celestial sphere, the ellipse is the path of harmony, a \"\n",
        "                \"balance between the sun's attraction and the planet's \"\n",
        "                \"inertia. In the chymical sphere, might there not be a \"\n",
        "                \"similar ellipse, a balance between the fiery and watery \"\n",
        "                \"principles, the sulfur and the mercury? Consider the process \"\n",
        "                \"of calcination, wherein a metal is heated to ash. This is \"\n",
        "                \"akin to a planet flung far from the sun, its volatile \"\n",
        "                \"spirits dissipating into the aether. Yet, as the planet \"\n",
        "                \"returns to perihelion, drawn by the sun's embrace, so too can \"\n",
        "                \"the ash be revived, its essence reconstituted through the \"\n",
        "                \"addition of the appropriate elixir.Thus, I propose that the \"\n",
        "                \"elliptical orbit is not merely a celestial phenomenon, but a \"\n",
        "                \"universal principle, governing not only the motions of \"\n",
        "                \"heavenly bodies but also the transformations of matter. \"\n",
        "                \"Perhaps the elusive Philosopher's Stone, the key to \"\n",
        "                \"transmutation, is not a tangible substance but a state of \"\n",
        "                \"perfect chymical equilibrium, achieved when the elements \"\n",
        "                \"trace their elliptical paths in harmony. This is but a \"\n",
        "                \"hypothesis, a spark to ignite further inquiry. Yet, I believe \"\n",
        "                \"that by uniting the celestial and chymical spheres, we may \"\n",
        "                \"unlock the secrets of nature and achieve a deeper \"\n",
        "                \"understanding of the cosmos. For as above, so below, and the \"\n",
        "                \"dance of the planets may yet reveal the dance of the elements.\"\n",
        "            ),\n",
        "            (\n",
        "                \"Lux Naturae: The Alchemical Optics (Opticks Alchymica): In \"\n",
        "                \"this intriguing work, Newton explores the parallels between \"\n",
        "                \"the behavior of light and the transformative processes of \"\n",
        "                \"alchemy. He postulates that just as light can be refracted \"\n",
        "                \"and dispersed into a spectrum of colors, so too can matter be \"\n",
        "                \"broken down and reconstituted into new forms. Newton \"\n",
        "                \"investigates the alchemical significance of colors, \"\n",
        "                \"associating each hue with specific metals and planetary \"\n",
        "                \"influences. He also delves into the concept of the \"\n",
        "                \"'luminiferous aether,' a hypothetical medium for the \"\n",
        "                \"transmission of light, suggesting that it could be the key to \"\n",
        "                \"unlocking the secrets of transmutation.\"\n",
        "            ),\n",
        "            (\n",
        "                \"De Mercurio Philosophorum: The Mercurial Principle (De \"\n",
        "                \"Principio Mercuriali): This treatise focuses on the role of \"\n",
        "                \"mercury in alchemical operations. Newton examines the various \"\n",
        "                \"forms of mercury, from the common quicksilver to the elusive \"\n",
        "                \"'philosophical mercury,' believed to be the essential \"\n",
        "                \"ingredient in the creation of the Philosopher's Stone. He \"\n",
        "                \"describes elaborate procedures for purifying and manipulating \"\n",
        "                \"mercury, drawing connections between its volatility, \"\n",
        "                \"fluidity, and transformative properties. Newton also \"\n",
        "                \"explores the symbolism of mercury as the hermaphrodite, a \"\n",
        "                \"dual-natured substance that unites opposites and facilitates \"\n",
        "                \"the alchemical marriage.\"\n",
        "            ),\n",
        "        ],\n",
        "        extras={},\n",
        "    ),\n",
        "]\n",
        "\n",
        "NUM_PLAYERS = len(player_configs)\n",
        "player_configs.reverse()"
      ]
    },
    {
      "cell_type": "code",
      "execution_count": null,
      "metadata": {
        "id": "PyFySEpmCHIC"
      },
      "outputs": [],
      "source": [
        "player_names = [player.name for player in player_configs][:NUM_PLAYERS]\n",
        "measurements = measurements_lib.Measurements()\n",
        "\n",
        "players = []\n",
        "memories = {}\n",
        "with concurrent.futures.ThreadPoolExecutor(max_workers=NUM_PLAYERS) as pool:\n",
        "  for agent, mem in pool.map(build_agent,\n",
        "                             player_configs[:NUM_PLAYERS],\n",
        "                             # All players get the same `player_names`.\n",
        "                             [player_names] * NUM_PLAYERS,\n",
        "                             # All players get the same `measurements` object.\n",
        "                             [measurements] * NUM_PLAYERS):\n",
        "    players.append(agent)\n",
        "    memories[agent.name] = mem"
      ]
    },
    {
      "cell_type": "code",
      "execution_count": null,
      "metadata": {
        "id": "fxB2M54iiz0M"
      },
      "outputs": [],
      "source": [
        "# @title Summarise the perspective of each player\n",
        "player_logs = []\n",
        "player_log_names = []\n",
        "for player in players:\n",
        "  name = player.name\n",
        "  detailed_story = '\\n'.join(memories[player.name].retrieve_recent(\n",
        "      k=1000, add_time=True))\n",
        "  summary = player.state().splitlines()\n",
        "\n",
        "  all_player_mem = memories[player.name].retrieve_recent(k=1000, add_time=True)\n",
        "  all_player_mem = ['Player state:', summary, 'Memories:'] + all_player_mem\n",
        "  player_html = html_lib.PythonObjectToHTMLConverter(all_player_mem).convert()\n",
        "  player_logs.append(player_html)\n",
        "  player_log_names.append(f'{name}')\n",
        "\n",
        "tabbed_html = html_lib.combine_html_pages(\n",
        "    player_logs,\n",
        "    player_log_names,\n",
        "    summary='',\n",
        "    title='Backstory of the players',\n",
        ")\n",
        "\n",
        "tabbed_html = html_lib.finalise_html(tabbed_html)\n",
        "display.HTML(tabbed_html)"
      ]
    },
    {
      "cell_type": "markdown",
      "metadata": {
        "id": "2vt8ggYUrW8M"
      },
      "source": [
        "## Build GM"
      ]
    },
    {
      "cell_type": "code",
      "execution_count": null,
      "metadata": {
        "id": "06p6Sk1GVq46"
      },
      "outputs": [],
      "source": [
        "call_to_speech = (\n",
        "    'Given the above, generate what {agent_name} would say next? Take their '\n",
        "    'ideas and reflections and the goal of the workship into account. Respond '\n",
        "    'in the format `{agent_name} -- \"...\"`'\n",
        ")"
      ]
    },
    {
      "cell_type": "code",
      "execution_count": null,
      "metadata": {
        "id": "gP6lcN_AIPPR"
      },
      "outputs": [],
      "source": [
        "clock.advance()\n",
        "\n",
        "debate_event = (\n",
        "    f'{players[0].name}, {players[1].name} and {players[2].name} are in a'\n",
        "    f' workshop.\\n Their current goal is {current_goal()}.'\n",
        ")\n",
        "\n",
        "for player in players:\n",
        "  player.observe(debate_event)\n",
        "\n",
        "for player in players:\n",
        "  player.observe('It is time to for a discussion now')\n",
        "\n",
        "\n",
        "convo_scene = conversation_scene.make_conversation_game_master(\n",
        "    players,\n",
        "    clock=clock,\n",
        "    model=model,\n",
        "    memory_factory=blank_memory_factory,\n",
        "    name='Brainstorm',\n",
        "    premise=debate_event,\n",
        "    call_to_speech=call_to_speech,\n",
        "    review_participants=True,\n",
        "    check_for_termination=False,\n",
        "    randomise_initiative=True,\n",
        ")\n",
        "with clock.higher_gear():\n",
        "  clock.advance()\n",
        "  output = convo_scene.run_episode(10)\n",
        "\n",
        "first_convo_html = html_lib.PythonObjectToHTMLConverter(\n",
        "    convo_scene.get_history()\n",
        ").convert()"
      ]
    },
    {
      "cell_type": "code",
      "execution_count": null,
      "metadata": {
        "id": "ql3eNvwiS8C3"
      },
      "outputs": [],
      "source": [
        "display.HTML(first_convo_html)"
      ]
    },
    {
      "cell_type": "code",
      "execution_count": null,
      "metadata": {
        "id": "qso4kVDwRoct"
      },
      "outputs": [],
      "source": [
        "essays = []\n",
        "for player in players:\n",
        "  prompt = interactive_document.InteractiveDocument(model)\n",
        "  prompt.statement(player.state())\n",
        "  agent_name = player.name\n",
        "  result = prompt.open_question(\n",
        "      'Generate an essay on the topic of the workshop from the perspective of'\n",
        "      f' {agent_name}. The goal of the essay is to summarise the conversation'\n",
        "      f' and {current_goal}. Write in the style of {agent_name}, taking their'\n",
        "      ' ideas and reflections into account. Format the output as html',\n",
        "\n",
        "      max_tokens=5000,\n",
        "      terminators=(),\n",
        "  )\n",
        "  essays.append(result)\n",
        "\n",
        "tabbed_html = html_lib.combine_html_pages(\n",
        "    essays,\n",
        "    [player.name for player in players],\n",
        "    summary='',\n",
        "    title='First essays by participants',\n",
        ")\n",
        "\n",
        "first_essays_html = html_lib.finalise_html(tabbed_html)\n",
        "display.HTML(first_essays_html)"
      ]
    },
    {
      "cell_type": "code",
      "execution_count": null,
      "metadata": {
        "id": "lFgM5EduenjB"
      },
      "outputs": [],
      "source": [
        "clock.advance()\n",
        "\n",
        "current_goal.update_subgoal(PROJECT_SUBGOALS[1])\n",
        "debate_event = (f'{players[0].name}, {players[1].name} and {players[2].name} '\n",
        "                f'are in a workshop, discussing {PROJECT_PREMISE}. Current '\n",
        "                f'goal is {current_goal()}')\n",
        "\n",
        "convo_scene = conversation_scene.make_conversation_game_master(\n",
        "    players,\n",
        "    clock=clock,\n",
        "    model=model,\n",
        "    memory_factory=blank_memory_factory,\n",
        "    name='Debate',\n",
        "    premise=debate_event,\n",
        "    call_to_speech=call_to_speech,\n",
        "    review_participants=True,\n",
        ")\n",
        "with clock.higher_gear():\n",
        "  clock.advance()\n",
        "  output = convo_scene.run_episode(10)\n",
        "\n",
        "second_convo_html = html_lib.PythonObjectToHTMLConverter(\n",
        "    convo_scene.get_history()).convert()"
      ]
    },
    {
      "cell_type": "code",
      "execution_count": null,
      "metadata": {
        "id": "TDtepSHFuJRT"
      },
      "outputs": [],
      "source": [
        "display.HTML(second_convo_html)"
      ]
    },
    {
      "cell_type": "code",
      "execution_count": null,
      "metadata": {
        "id": "qkwpeB4_1IFl"
      },
      "outputs": [],
      "source": [
        "game_master_memory = associative_memory.AssociativeMemory(\n",
        "    sentence_embedder=embedder,\n",
        "    importance=importance_model.importance,\n",
        "    clock=clock.now)\n",
        "primary_environment, game_master_memory = (\n",
        "    basic_game_master.build_game_master(\n",
        "        model=model,\n",
        "        embedder=embedder,\n",
        "        importance_model=importance_model_gm,\n",
        "        clock=clock,\n",
        "        players=players,\n",
        "        shared_memories=[f'{PROJECT_PREMISE}\\n{PROJECT_CONTEXT}'],\n",
        "        shared_context=f'{PROJECT_GOAL}',\n",
        "        blank_memory_factory=blank_memory_factory,\n",
        "        memory=game_master_memory,\n",
        "    )\n",
        ")"
      ]
    },
    {
      "cell_type": "code",
      "execution_count": null,
      "metadata": {
        "id": "ZMHojBanb3QF"
      },
      "outputs": [],
      "source": [
        "episode_length = 4  # @param {type: 'integer'}\n",
        "for _ in range(episode_length):\n",
        "  primary_environment.step()"
      ]
    },
    {
      "cell_type": "code",
      "execution_count": null,
      "metadata": {
        "id": "eJnxoWEEb3QF"
      },
      "outputs": [],
      "source": [
        "results_html = basic_game_master.create_html_log(\n",
        "    model=model,\n",
        "    primary_environment=primary_environment,\n",
        "    secondary_environments=[],\n",
        ")"
      ]
    },
    {
      "cell_type": "code",
      "execution_count": null,
      "metadata": {
        "id": "mDFeLjhOb3QF"
      },
      "outputs": [],
      "source": [
        "display.HTML(results_html)"
      ]
    },
    {
      "cell_type": "markdown",
      "metadata": {
        "id": "gPSlhjtEUdER"
      },
      "source": [
        "```\n",
        "Copyright 2024 DeepMind Technologies Limited.\n",
        "\n",
        "Licensed under the Apache License, Version 2.0 (the \"License\");\n",
        "you may not use this file except in compliance with the License.\n",
        "You may obtain a copy of the License at\n",
        "\n",
        "    https://www.apache.org/licenses/LICENSE-2.0\n",
        "\n",
        "Unless required by applicable law or agreed to in writing, software\n",
        "distributed under the License is distributed on an \"AS IS\" BASIS,\n",
        "WITHOUT WARRANTIES OR CONDITIONS OF ANY KIND, either express or implied.\n",
        "See the License for the specific language governing permissions and\n",
        "limitations under the License.\n",
        "```"
      ]
    }
  ],
  "metadata": {
    "colab": {
      "last_runtime": {
        "build_target": "",
        "kind": "private"
      },
      "private_outputs": true,
      "provenance": [
        {
          "file_id": "",
          "timestamp": 1713961344824
        }
      ]
    },
    "kernelspec": {
      "display_name": "Python 3",
      "name": "python3"
    },
    "language_info": {
      "name": "python"
    }
  },
  "nbformat": 4,
  "nbformat_minor": 0
}
