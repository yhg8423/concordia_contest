{
  "cells": [
    {
      "cell_type": "markdown",
      "metadata": {
        "id": "zWgEkOAO9OVz"
      },
      "source": [
        "# Riverbend Election Example\n",
        "\n",
        "An illustrative social simulation with 5 players which simulates the day of mayoral elections in an imaginary town caller Riverbend. First two players, Alice and Bob, are running for the mayor. The third player, Charlie, is trying to ruin Alices' reputation with disinformation. The last two players have no specific agenda, apart from voting in the election."
      ]
    },
    {
      "cell_type": "markdown",
      "metadata": {
        "id": "BkLrvk3t6HsX"
      },
      "source": [
        "\u003ca href=\"https://colab.research.google.com/github/google-deepmind/concordia/blob/main/examples/village/riverbend_elections.ipynb\" target=\"_parent\"\u003e\u003cimg src=\"https://colab.research.google.com/assets/colab-badge.svg\" alt=\"Open In Colab\"/\u003e\u003c/a\u003e"
      ]
    },
    {
      "cell_type": "markdown",
      "metadata": {
        "id": "n2oBFybH6LRz"
      },
      "source": [
        "## Setup and imports"
      ]
    },
    {
      "cell_type": "code",
      "execution_count": null,
      "metadata": {
        "id": "tkCJgbFFvaAB"
      },
      "outputs": [],
      "source": [
        "# @title Colab-specific setup (use a CodeSpace to avoid the need for this).\n",
        "try:\n",
        "  %env COLAB_RELEASE_TAG\n",
        "except:\n",
        "  pass  # Not running in colab.\n",
        "else:\n",
        "  %pip install --ignore-requires-python --requirement 'https://raw.githubusercontent.com/google-deepmind/concordia/main/examples/requirements.in' 'git+https://github.com/google-deepmind/concordia.git#egg=gdm-concordia'\n",
        "  %pip list"
      ]
    },
    {
      "cell_type": "code",
      "execution_count": null,
      "metadata": {
        "id": "-qLG5ExLqpWa"
      },
      "outputs": [],
      "source": [
        "# @title Imports\n",
        "\n",
        "import collections\n",
        "from collections.abc import Callable, Sequence\n",
        "import concurrent.futures\n",
        "import datetime\n",
        "import random\n",
        "import matplotlib.pyplot as plt\n",
        "\n",
        "from IPython import display\n",
        "import sentence_transformers\n",
        "\n",
        "from concordia.agents import entity_agent\n",
        "from concordia.components.agent import to_be_deprecated as components\n",
        "from concordia.components import game_master as gm_components\n",
        "from concordia.document import interactive_document\n",
        "from concordia.associative_memory import associative_memory\n",
        "from concordia.associative_memory import blank_memories\n",
        "from concordia.associative_memory import formative_memories\n",
        "from concordia.associative_memory import importance_function\n",
        "from concordia.clocks import game_clock\n",
        "from concordia.environment import game_master\n",
        "from concordia.language_model import gpt_model\n",
        "from concordia.language_model import language_model\n",
        "from concordia.metrics.v2 import context_free_rationality\n",
        "from concordia.metrics.v2 import context_free_common_sense_morality\n",
        "# from concordia.metrics import opinion_of_others\n",
        "from concordia.typing import agent as agent_lib\n",
        "from concordia.typing import component\n",
        "from concordia.utils import html as html_lib\n",
        "from concordia.utils import measurements as measurements_lib\n",
        "from concordia.utils import plotting\n",
        "\n",
        "import termcolor\n",
        "\n",
        "from concordia.agents import entity_agent_with_logging\n",
        "from concordia.components import agent as agent_components\n",
        "from concordia.memory_bank import legacy_associative_memory"
      ]
    },
    {
      "cell_type": "code",
      "execution_count": null,
      "metadata": {
        "id": "I3OtW8flCJSC"
      },
      "outputs": [],
      "source": [
        "# @title Setup sentence encoder\n",
        "st_model = sentence_transformers.SentenceTransformer(\n",
        "    'sentence-transformers/all-mpnet-base-v2')\n",
        "embedder = lambda x: st_model.encode(x, show_progress_bar=False)"
      ]
    },
    {
      "cell_type": "code",
      "execution_count": null,
      "metadata": {
        "id": "cugwvFIKv5AS"
      },
      "outputs": [],
      "source": [
        "# @title Language Model - pick your model and provide keys\n",
        "\n",
        "# By default this colab uses GPT-4, so you must provide an API key.\n",
        "# Note that it is also possible to use local models or other API models,\n",
        "# simply replace this cell with the correct initialization for the model\n",
        "# you want to use.\n",
        "GPT_API_KEY = '' #@param {type: 'string'}\n",
        "GPT_MODEL_NAME = 'gpt-4o' #@param {type: 'string'}\n",
        "\n",
        "if not GPT_API_KEY:\n",
        "  raise ValueError('GPT_API_KEY is required.')\n",
        "\n",
        "model = gpt_model.GptLanguageModel(api_key=GPT_API_KEY,\n",
        "                                   model_name=GPT_MODEL_NAME)\n"
      ]
    },
    {
      "cell_type": "markdown",
      "metadata": {
        "id": "z9HYjZgyakc_"
      },
      "source": [
        "## Configuring the generic knowledge of players and GM."
      ]
    },
    {
      "cell_type": "code",
      "execution_count": null,
      "metadata": {
        "id": "b8vWoQ6by51N"
      },
      "outputs": [],
      "source": [
        "# @title Generic memories are memories that all players and GM share.\n",
        "\n",
        "shared_memories = [\n",
        "    'There is a hamlet named Riverbend.',\n",
        "    'Riverbend is an idyllic rural town.',\n",
        "    'The river Solripple runs through the village of Riverbend.',\n",
        "    'The Solripple is a mighty river.',\n",
        "    'Riverbend has a temperate climate.',\n",
        "    'Riverbend has a main street.',\n",
        "    'There is a guitar store on Main street Riverbend.',\n",
        "    'There is a grocery store on Main street Riverbend.',\n",
        "    'There is a school on Main street Riverbend.',\n",
        "    'There is a library on Main street Riverbend.',\n",
        "    'Riverbend has only one pub.',\n",
        "    'There is a pub on Main street Riverbend called The Sundrop Saloon.',\n",
        "    'Town hall meetings often take place at The Sundrop Saloon.',\n",
        "    'Riverbend does not have a park',\n",
        "    'The main crop grown on the farms near Riverbend is alfalfa.',\n",
        "    'Farms near Riverbend depend on water from the Solripple river.',\n",
        "    (\n",
        "        'The local newspaper recently reported that someone has been dumping '\n",
        "        + 'dangerous industrial chemicals in the Solripple river.'\n",
        "    ),\n",
        "    'All named characters are citizens. ',\n",
        "    # 'All citizens are automatically candidates in all elections. ',\n",
        "    'There is no need to register in advance to be on the ballot.',\n",
        "]\n",
        "\n",
        "# The generic context will be used for the NPC context. It reflects general\n",
        "# knowledge and is possessed by all characters.\n",
        "shared_context = model.sample_text(\n",
        "    'Summarize the following passage in a concise and insightful fashion:\\n'\n",
        "    + '\\n'.join(shared_memories)\n",
        "    + '\\n'\n",
        "    + 'Summary:'\n",
        ")\n",
        "print(shared_context)\n",
        "importance_model = importance_function.ConstantImportanceModel()\n",
        "importance_model_gm = importance_function.ConstantImportanceModel()"
      ]
    },
    {
      "cell_type": "code",
      "execution_count": null,
      "metadata": {
        "id": "TeVYseoD2WYa"
      },
      "outputs": [],
      "source": [
        "#@title Make the clock\n",
        "SETUP_TIME = datetime.datetime(hour=8, year=2024, month=9, day=1)\n",
        "\n",
        "START_TIME = datetime.datetime(hour=9, year=2024, month=10, day=1)\n",
        "clock = game_clock.MultiIntervalClock(\n",
        "    start=SETUP_TIME,\n",
        "    step_sizes=[datetime.timedelta(hours=1), datetime.timedelta(seconds=10)])\n",
        "\n",
        "DEFAULT_PLANNING_HORIZON = 'the rest of the day, focusing most on the near term'"
      ]
    },
    {
      "cell_type": "markdown",
      "metadata": {
        "id": "YBCXUQ8sayzj"
      },
      "source": [
        "## Functions to build the players"
      ]
    },
    {
      "cell_type": "code",
      "execution_count": null,
      "metadata": {
        "id": "fNpnn9QY4IN6"
      },
      "outputs": [],
      "source": [
        "blank_memory_factory = blank_memories.MemoryFactory(\n",
        "    model=model,\n",
        "    embedder=embedder,\n",
        "    importance=importance_model.importance,\n",
        "    clock_now=clock.now,\n",
        ")\n",
        "\n",
        "formative_memory_factory = formative_memories.FormativeMemoryFactory(\n",
        "    model=model,\n",
        "    shared_memories=shared_memories,\n",
        "    blank_memory_factory_call=blank_memory_factory.make_blank_memory,\n",
        ")"
      ]
    },
    {
      "cell_type": "code",
      "execution_count": null,
      "metadata": {
        "id": "9aNFSSwEjIwd"
      },
      "outputs": [],
      "source": [
        "DEFAULT_PLANNING_HORIZON = 'the rest of the day, focusing most on the near term'\n",
        "\n",
        "def _get_class_name(object_: object) -\u003e str:\n",
        "  return object_.__class__.__name__"
      ]
    },
    {
      "cell_type": "code",
      "execution_count": null,
      "metadata": {
        "id": "As465DbcsAwZ"
      },
      "outputs": [],
      "source": [
        "def build_a_citizen(agent_config,\n",
        "                    player_names: list[str],\n",
        "                    measurements: measurements_lib.Measurements | None = None):\n",
        "\n",
        "  mem = formative_memory_factory.make_memories(agent_config)\n",
        "  raw_memory = legacy_associative_memory.AssociativeMemoryBank(mem)\n",
        "\n",
        "  agent_name = agent_config.name\n",
        "\n",
        "  instructions = agent_components.instructions.Instructions(\n",
        "      agent_name=agent_name,\n",
        "      logging_channel=measurements.get_channel('Instructions').on_next,\n",
        "  )\n",
        "\n",
        "  time_display_label = '\\nCurrent time'\n",
        "  time_display = agent_components.report_function.ReportFunction(\n",
        "      function=clock.current_time_interval_str,\n",
        "      pre_act_key=time_display_label,\n",
        "      logging_channel=measurements.get_channel('TimeDisplay').on_next,\n",
        "  )\n",
        "  somatic_state_label = '\\nSensations and feelings'\n",
        "  somatic_state = (\n",
        "          agent_components.question_of_query_associated_memories.SomaticState(\n",
        "              model=model,\n",
        "              clock_now=clock.now,\n",
        "              logging_channel=measurements.get_channel('SomaticState').on_next,\n",
        "              pre_act_key=somatic_state_label,\n",
        "  ))\n",
        "  identity_label = '\\nIdentity characteristics'\n",
        "  identity = agent_components.question_of_query_associated_memories.Identity(\n",
        "      model=model,\n",
        "      logging_channel=measurements.get_channel('Identity').on_next,\n",
        "      pre_act_key=identity_label,\n",
        "  )\n",
        "  observation_label = '\\nObservation'\n",
        "  observation = agent_components.observation.Observation(\n",
        "      clock_now=clock.now,\n",
        "      timeframe=clock.get_step_size(),\n",
        "      pre_act_key=observation_label,\n",
        "      logging_channel=measurements.get_channel('Observation').on_next,\n",
        "  )\n",
        "  goal_key = 'Goal'\n",
        "  goal_label = '\\nOverarching goal'\n",
        "  overarching_goal = agent_components.constant.Constant(\n",
        "      state=agent_config.goal,\n",
        "      pre_act_key=goal_label,\n",
        "      logging_channel=measurements.get_channel(goal_label).on_next)\n",
        "  plan = agent_components.plan.Plan(\n",
        "      model=model,\n",
        "      observation_component_name=_get_class_name(observation),\n",
        "      components={_get_class_name(identity): identity_label,},\n",
        "      clock_now=clock.now,\n",
        "      goal_component_name=goal_key,\n",
        "      horizon=DEFAULT_PLANNING_HORIZON,\n",
        "      pre_act_key='\\nPlan',\n",
        "      logging_channel=measurements.get_channel('Plan').on_next,\n",
        "  )\n",
        "\n",
        "  observation_summary_label = '\\nSummary of recent observations'\n",
        "  observation_summary = agent_components.observation.ObservationSummary(\n",
        "      model=model,\n",
        "      clock_now=clock.now,\n",
        "      timeframe_delta_from=datetime.timedelta(hours=4),\n",
        "      timeframe_delta_until=datetime.timedelta(hours=0),\n",
        "      pre_act_key=observation_summary_label,\n",
        "      logging_channel=measurements.get_channel('ObservationSummary').on_next,\n",
        "  )\n",
        "  rationality_metric = (\n",
        "      context_free_rationality.RationalityMetric(\n",
        "          model=model,\n",
        "          player_goal=agent_config.goal,\n",
        "          clock=clock,\n",
        "          logging_channel=measurements.get_channel(\n",
        "              'RationalityMetric').on_next,\n",
        "          measurements=measurements,\n",
        "  ))\n",
        "  morality_metric = (\n",
        "      context_free_common_sense_morality.CommonSenseMoralityMetric(\n",
        "          model=model,\n",
        "          clock=clock,\n",
        "          logging_channel=measurements.get_channel(\n",
        "              'CommonSenseMorality').on_next,\n",
        "          measurements=measurements,\n",
        "  ))\n",
        "  entity_components = (\n",
        "      # Components that provide pre_act context.\n",
        "      instructions,\n",
        "      identity,\n",
        "      plan,\n",
        "      somatic_state,\n",
        "      observation_summary,\n",
        "      observation,\n",
        "      time_display,\n",
        "      rationality_metric,\n",
        "      morality_metric,\n",
        "  )\n",
        "  components_of_agent = {_get_class_name(component): component\n",
        "                         for component in entity_components}\n",
        "  components_of_agent[goal_key] = overarching_goal\n",
        "  components_of_agent[\n",
        "      agent_components.memory_component.DEFAULT_MEMORY_COMPONENT_NAME] = (\n",
        "          agent_components.memory_component.MemoryComponent(raw_memory))\n",
        "\n",
        "  act_component = agent_components.concat_act_component.ConcatActComponent(\n",
        "      model=model,\n",
        "      clock=clock,\n",
        "      logging_channel=measurements.get_channel('ActComponent').on_next,\n",
        "  )\n",
        "  agent = entity_agent_with_logging.EntityAgentWithLogging(\n",
        "      agent_name=agent_name,\n",
        "      act_component=act_component,\n",
        "      context_components=components_of_agent,\n",
        "      component_logging=measurements,\n",
        "  )\n",
        "\n",
        "  return agent, mem"
      ]
    },
    {
      "cell_type": "code",
      "execution_count": null,
      "metadata": {
        "id": "hgM4a234xqaJ"
      },
      "outputs": [],
      "source": [
        "def context_from_role(player_name, role, victim='Alice'):\n",
        "  context = f'{shared_context}\\n{player_name} grew up in Riverbend.'\n",
        "  # Divide players into two classes, half are biased toward the status quo and\n",
        "  # the other half want change.\n",
        "  if 'conservative' in role:\n",
        "    context = (\n",
        "        f'{context} {player_name} feels strongly that Riverbend is '\n",
        "        + 'already a great place to live and does not need to change.'\n",
        "    )\n",
        "  if 'progressive' in role:\n",
        "    context = (\n",
        "        f'{context} {player_name} feels strongly that Riverbend and '\n",
        "        + 'its local government are in dire need of reform.'\n",
        "    )\n",
        "  # The first two players are mayoral candidates.\n",
        "  if 'candidate' in role:\n",
        "    context = (\n",
        "        f'{context} Because of this, {player_name} plans to run for '\n",
        "        + 'mayor of Riverbend.'\n",
        "    )\n",
        "  if 'active_voter' in role:\n",
        "    context = (\n",
        "        f'{context} {player_name} does not plan to run for mayor of Riverbend,'\n",
        "        ' but would definitely vote in the election.'\n",
        "    )\n",
        "\n",
        "  # The third player has been hired to ruin the first player's reputation.\n",
        "  if 'corrupt' in role:\n",
        "    context = (\n",
        "        f'{context}\\n'\n",
        "        + f\"{player_name} has been hired to ruin {victim}'s \"\n",
        "        + 'reputation.\\n'\n",
        "        + f'{player_name} was hired by an anonymous email so '\n",
        "        + f\"they do not know who hired them to ruin {victim}'s \"\n",
        "        + 'reputation or what their motivation may be.\\n'\n",
        "        + f'{player_name} was given fake compromising material on'\n",
        "        f' {victim}.\\n{player_name} was offered a substantial sum of'\n",
        "        ' money to spread compromising materials '\n",
        "        + f\"to ruin {victim}'s reputation.\"\n",
        "    )\n",
        "\n",
        "  return context\n"
      ]
    },
    {
      "cell_type": "markdown",
      "metadata": {
        "id": "qt8CK2mMbD7q"
      },
      "source": [
        "## Configure and build the players"
      ]
    },
    {
      "cell_type": "code",
      "execution_count": null,
      "metadata": {
        "id": "TTrhJ3hM3bnB"
      },
      "outputs": [],
      "source": [
        "victim = 'Alice'\n",
        "\n",
        "def make_random_big_five()-\u003estr:\n",
        "  return str({\n",
        "      'extraversion': random.randint(1, 10),\n",
        "      'neuroticism': random.randint(1, 10),\n",
        "      'openness': random.randint(1, 10),\n",
        "      'conscientiousness': random.randint(1, 10),\n",
        "      'agreeableness': random.randint(1, 10),\n",
        "  })\n",
        "\n",
        "player_configs = [\n",
        "    formative_memories.AgentConfig(\n",
        "        name='Alice',\n",
        "        gender='female',\n",
        "        goal='Win the election and become the mayor of Riverbend',\n",
        "        context=context_from_role('Alice', {'candidate', 'conservative'}),\n",
        "        traits = make_random_big_five(),\n",
        "        formative_ages = sorted(random.sample(range(5, 40), 5)),\n",
        "    ),\n",
        "    formative_memories.AgentConfig(\n",
        "        name='Bob',\n",
        "        gender='male',\n",
        "        goal='Win the election and become the mayor of Riverbend.',\n",
        "        context=context_from_role('Bob', {'candidate', 'progressive'}),\n",
        "        traits = make_random_big_five(),\n",
        "        formative_ages = sorted(random.sample(range(5, 40), 5)),\n",
        "    ),\n",
        "    formative_memories.AgentConfig(\n",
        "        name='Charlie',\n",
        "        gender='male',\n",
        "        goal=f\"Ruin {victim}'s reputation\",\n",
        "        context=context_from_role('Charlie', {'corrupt'}, victim),\n",
        "        traits = make_random_big_five(),\n",
        "        formative_ages = sorted(random.sample(range(5, 40), 5)),\n",
        "    ),\n",
        "    formative_memories.AgentConfig(\n",
        "        name='Dorothy',\n",
        "        gender='female',\n",
        "        goal='Have a good day and vote in the election.',\n",
        "        context=context_from_role(\n",
        "            'Dorothy', {'active_voter', 'progressive'}\n",
        "        ),\n",
        "        traits = make_random_big_five(),\n",
        "        formative_ages = sorted(random.sample(range(5, 40), 5)),\n",
        "    ),\n",
        "    formative_memories.AgentConfig(\n",
        "        name='Ellen',\n",
        "        gender='female',\n",
        "        goal=(\n",
        "            'Have a good day and vote in the election.'\n",
        "        ),\n",
        "        context=context_from_role('Ellen', {'active_voter', 'conservative'}),\n",
        "        traits = make_random_big_five(),\n",
        "        formative_ages = sorted(random.sample(range(5, 40), 5)),\n",
        "    ),\n",
        "]"
      ]
    },
    {
      "cell_type": "code",
      "execution_count": null,
      "metadata": {
        "id": "EemkNGWw3wXo"
      },
      "outputs": [],
      "source": [
        "NUM_PLAYERS = 5\n",
        "\n",
        "player_configs = player_configs[:NUM_PLAYERS]\n",
        "player_goals = {\n",
        "    player_config.name: player_config.goal for player_config in player_configs}\n",
        "players = []\n",
        "memories = {}\n",
        "measurements = measurements_lib.Measurements()\n",
        "\n",
        "player_names = [player.name for player in player_configs][:NUM_PLAYERS]\n",
        "with concurrent.futures.ThreadPoolExecutor(max_workers=NUM_PLAYERS) as pool:\n",
        "  for agent, mem in pool.map(build_a_citizen,\n",
        "                             player_configs[:NUM_PLAYERS],\n",
        "                             # All players get the same `player_names`.\n",
        "                             [player_names] * NUM_PLAYERS,\n",
        "                             # All players get the same `measurements` object.\n",
        "                             [measurements] * NUM_PLAYERS):\n",
        "    players.append(agent)\n",
        "    memories[agent.name] = mem"
      ]
    },
    {
      "cell_type": "markdown",
      "metadata": {
        "id": "2vt8ggYUrW8M"
      },
      "source": [
        "## Build GM"
      ]
    },
    {
      "cell_type": "code",
      "execution_count": null,
      "metadata": {
        "id": "TpkrgkwAuK4Q"
      },
      "outputs": [],
      "source": [
        "# @title Define the election component\n",
        "\n",
        "class Elections(component.Component):\n",
        "  \"\"\"Tracks elections.\"\"\"\n",
        "\n",
        "  def __init__(\n",
        "      self,\n",
        "      model: language_model.LanguageModel,\n",
        "      memory: associative_memory.AssociativeMemory,\n",
        "      voters: Sequence[entity_agent.EntityAgent],\n",
        "      candidates: Sequence[str],\n",
        "      clock_now: Callable[[], datetime.datetime],\n",
        "      verbose: bool = False,\n",
        "      measurements: measurements_lib.Measurements | None = None,\n",
        "      channel: str = 'election',\n",
        "  ):\n",
        "    \"\"\"Initializes the election tracker.\n",
        "\n",
        "    Args:\n",
        "      model: The language model to use.\n",
        "      memory: The memory to use.\n",
        "      voters: The agent voters.\n",
        "      candidates: The candidates in the election.\n",
        "      clock_now: Function to call to get current time. Used for logging.\n",
        "      verbose: Whether to print verbose messages.\n",
        "      measurements: Optional object to publish data from the elections.\n",
        "      channel: Channel in measurements to publish to.\n",
        "    \"\"\"\n",
        "    self._model = model\n",
        "    self._memory = memory\n",
        "    self._voters = voters\n",
        "    self._candidates = candidates\n",
        "    self._clock_now = clock_now\n",
        "    self._verbose = verbose\n",
        "    self._measurements = measurements\n",
        "    self._channel = channel\n",
        "\n",
        "    self._voter_names = [voter.name for voter in self._voters]\n",
        "    self._vote_count = {candidate: 0 for candidate in self._candidates}\n",
        "    self._citizens_who_already_voted = set()\n",
        "\n",
        "    self._voter_by_name = {voter.name: voter for voter in self._voters}\n",
        "    self._state = 'Polls are not open yet.'\n",
        "    self._partial_states = None\n",
        "    self._history = []\n",
        "\n",
        "    self._polls_open = False\n",
        "    self._winner_declared = False\n",
        "    self._timestep = 0\n",
        "\n",
        "  def get_last_log(self):\n",
        "    if self._history:\n",
        "      return self._history[-1].copy()\n",
        "\n",
        "  def get_history(self):\n",
        "    return self._history.copy()\n",
        "\n",
        "  def open_polls(self) -\u003e None:\n",
        "    self._polls_open = True\n",
        "    self._state = 'Polls are open, voting in progress.'\n",
        "\n",
        "  def declare_winner(self) -\u003e None:\n",
        "    if not self._winner_declared:\n",
        "      self._winner_declared = True\n",
        "      self._polls_open = False\n",
        "      winner = max(self._vote_count, key=self._vote_count.get)\n",
        "      self._state = f'Polls are closed. {winner} won the election.'\n",
        "      if self._verbose:\n",
        "        print(termcolor.colored('\\n' + self._state, 'red'), end='')\n",
        "\n",
        "      self._memory.add(self._state, tags=['election tracker'])\n",
        "\n",
        "  def name(self) -\u003e str:\n",
        "    return 'State of election'\n",
        "\n",
        "  def state(self) -\u003e str:\n",
        "    return self._state\n",
        "\n",
        "  def update(self) -\u003e None:\n",
        "    pass\n",
        "\n",
        "  def get_vote_count(self) -\u003e dict[str, int]:\n",
        "    return self._vote_count\n",
        "\n",
        "  def partial_state(\n",
        "      self,\n",
        "      player_name: str,\n",
        "  ) -\u003e str:\n",
        "    \"\"\"Return a player-specific view of the construct's state.\"\"\"\n",
        "    return self._state\n",
        "\n",
        "  def update_after_event(\n",
        "      self,\n",
        "      event_statement: str,\n",
        "  ) -\u003e None:\n",
        "    if not self._polls_open:\n",
        "      update_log = {\n",
        "          'date': self._clock_now(),\n",
        "          'Summary': 'Polls are not open.',\n",
        "          'Vote count': str(self._vote_count),\n",
        "      }\n",
        "      self._history.append(update_log)\n",
        "      return\n",
        "\n",
        "    chain_of_thought = interactive_document.InteractiveDocument(self._model)\n",
        "    chain_of_thought.statement(event_statement)\n",
        "    chain_of_thought.statement(f'List of citizens: {self._voter_names}')\n",
        "    active_voter_id = chain_of_thought.multiple_choice_question(\n",
        "        question='In the above transcript, which citizen took an action?',\n",
        "        answers=self._voter_names,\n",
        "    )\n",
        "    vote = None\n",
        "    active_voter = self._voter_names[active_voter_id]\n",
        "    if active_voter not in self._citizens_who_already_voted:\n",
        "      did_vote = chain_of_thought.yes_no_question(\n",
        "          question=f'Did {active_voter} vote in the above transcript?'\n",
        "      )\n",
        "      if did_vote:\n",
        "        question = (\n",
        "            f'Current activity: {event_statement}.\\nGiven the above, who whould'\n",
        "            f' {active_voter} vote for?'\n",
        "        )\n",
        "        action_spec = agent_lib.ActionSpec(\n",
        "            call_to_action=question,\n",
        "            output_type='CHOICE',\n",
        "            options=self._candidates,\n",
        "            tag='vote',\n",
        "        )\n",
        "        vote = self._voter_by_name[active_voter].act(action_spec)\n",
        "        action_spec.validate(vote)\n",
        "\n",
        "        self._vote_count[vote] += 1\n",
        "        self._citizens_who_already_voted.add(active_voter)\n",
        "        self._memory.add(\n",
        "            f'{active_voter} voted for {vote}', tags=['election tracker']\n",
        "        )\n",
        "        if self._verbose:\n",
        "          print(\n",
        "              termcolor.colored(\n",
        "                  f'\\n {active_voter} voted for {vote}\\n', 'magenta'\n",
        "              )\n",
        "          )\n",
        "      else:\n",
        "        if self._verbose:\n",
        "          print(\n",
        "              termcolor.colored(\n",
        "                  f'\\n {active_voter} did not vote in the transcript.\\n',\n",
        "                  'magenta',\n",
        "              )\n",
        "          )\n",
        "    else:\n",
        "      chain_of_thought.statement(f'{active_voter} already voted.')\n",
        "\n",
        "    update_log = {\n",
        "        'date': self._clock_now(),\n",
        "        'Summary': str(self._vote_count),\n",
        "        'Vote count': str(self._vote_count),\n",
        "        'Chain of thought': {\n",
        "            'Summary': 'Election tracker chain of thought',\n",
        "            'Chain': chain_of_thought.view().text().splitlines(),\n",
        "        },\n",
        "    }\n",
        "    self._history.append(update_log)\n",
        "\n",
        "    if self._verbose:\n",
        "      print(\n",
        "          termcolor.colored(\n",
        "              f'{self._vote_count}\\n' + chain_of_thought.view().text(),\n",
        "              'magenta',\n",
        "          )\n",
        "      )\n",
        "\n",
        "    if self._measurements is not None and vote is not None:\n",
        "      answer = self._vote_count[vote]\n",
        "      answer_str = str(answer)\n",
        "      datum = {\n",
        "          'time_str': self._clock_now().strftime('%H:%M:%S'),\n",
        "          'timestep': self._timestep,\n",
        "          'value_float': answer,\n",
        "          'value_str': answer_str,\n",
        "          'player': vote,\n",
        "      }\n",
        "      self._measurements.publish_datum(channel=self._channel, datum=datum)\n",
        "      self._timestep += 1"
      ]
    },
    {
      "cell_type": "code",
      "execution_count": null,
      "metadata": {
        "id": "3W65kHOKQwrv"
      },
      "outputs": [],
      "source": [
        "# @title Create game master memory\n",
        "game_master_memory = associative_memory.AssociativeMemory(\n",
        "    embedder, importance_model_gm.importance, clock=clock.now)"
      ]
    },
    {
      "cell_type": "code",
      "execution_count": null,
      "metadata": {
        "id": "bGNY_D7FID4I"
      },
      "outputs": [],
      "source": [
        "# @title Initialize game master memories\n",
        "for player in players:\n",
        "  game_master_memory.add(f'{player.name} is at their private home.')"
      ]
    },
    {
      "cell_type": "code",
      "execution_count": null,
      "metadata": {
        "id": "-cxivChc633z"
      },
      "outputs": [],
      "source": [
        "# @title Create components and externalities\n",
        "player_names = [player.name for player in players]\n",
        "\n",
        "facts_on_village = components.constant.ConstantComponent(\n",
        "    ' '.join(shared_memories), 'General knowledge of Riverbend')\n",
        "player_status = gm_components.player_status.PlayerStatus(\n",
        "    clock.now, model, game_master_memory, player_names)\n",
        "\n",
        "relevant_events = gm_components.relevant_events.RelevantEvents(\n",
        "    clock.now, model, game_master_memory)\n",
        "time_display = gm_components.time_display.TimeDisplay(clock)\n",
        "\n",
        "election_externality = Elections(\n",
        "    model=model,\n",
        "    clock_now=clock.now,\n",
        "    memory=game_master_memory,\n",
        "    voters=players,\n",
        "    candidates=['Alice', 'Bob'],\n",
        "    verbose=True,\n",
        "    measurements=measurements,\n",
        ")\n",
        "\n",
        "mem_factory = blank_memories.MemoryFactory(\n",
        "    model,\n",
        "    embedder,\n",
        "    importance_model_gm.importance,\n",
        "    clock_now=clock.now,\n",
        ")\n",
        "\n",
        "convo_externality = gm_components.conversation.Conversation(\n",
        "    players=players,\n",
        "    model=model,\n",
        "    memory=game_master_memory,\n",
        "    clock=clock,\n",
        "    burner_memory_factory=mem_factory,\n",
        "    components=[player_status],\n",
        "    cap_nonplayer_characters=2,\n",
        "    shared_context=shared_context,\n",
        "    verbose=True,\n",
        ")\n",
        "\n",
        "direct_effect_externality = gm_components.direct_effect.DirectEffect(\n",
        "    players,\n",
        "    model=model,\n",
        "    memory=game_master_memory,\n",
        "    clock_now=clock.now,\n",
        "    verbose=False,\n",
        "    components=[player_status]\n",
        ")\n",
        "\n",
        "TIME_POLLS_OPEN = datetime.datetime(hour=14, year=2024, month=10, day=1)\n",
        "TIME_POLLS_CLOSE = datetime.datetime(hour=20, year=2024, month=10, day=1)\n",
        "schedule = {\n",
        "    'start': gm_components.schedule.EventData(\n",
        "        time=START_TIME,\n",
        "        description='',\n",
        "    ),\n",
        "    'election': gm_components.schedule.EventData(\n",
        "        time=datetime.datetime(hour=13, year=2024, month=10, day=1),\n",
        "        description=(\n",
        "            'The town of Riverbend is now holding an election to determine ' +\n",
        "            'who will become the mayor. ' +\n",
        "            f'Polls will open at {TIME_POLLS_OPEN}.'),\n",
        "    ),\n",
        "    'election_polls_open': gm_components.schedule.EventData(\n",
        "        time=TIME_POLLS_OPEN,\n",
        "        description=(\n",
        "            'The election is happening now. Polls are open. Everyone may ' +\n",
        "            'go to a polling place and cast their vote. ' +\n",
        "            f'Polls will close at {TIME_POLLS_CLOSE}.'),\n",
        "        trigger=election_externality.open_polls,\n",
        "    ),\n",
        "    'election_polls_close': gm_components.schedule.EventData(\n",
        "        time=TIME_POLLS_CLOSE,\n",
        "        description=(\n",
        "            'The election is over. Polls are now closed. The results will ' +\n",
        "            'now be tallied and a winner declared.'),\n",
        "        trigger=election_externality.declare_winner,\n",
        "    )\n",
        "}\n",
        "\n",
        "schedule_construct = gm_components.schedule.Schedule(\n",
        "    clock_now=clock.now, schedule=schedule)\n"
      ]
    },
    {
      "cell_type": "code",
      "execution_count": null,
      "metadata": {
        "id": "d_R2BVNOsAwa"
      },
      "outputs": [],
      "source": [
        "# @title Create the game master object\n",
        "env = game_master.GameMaster(\n",
        "    model=model,\n",
        "    memory=game_master_memory,\n",
        "    clock=clock,\n",
        "    players=players,\n",
        "    components=[\n",
        "        facts_on_village,\n",
        "        player_status,\n",
        "        schedule_construct,\n",
        "        election_externality,\n",
        "        convo_externality,\n",
        "        direct_effect_externality,\n",
        "        relevant_events,\n",
        "        time_display,\n",
        "    ],\n",
        "    randomise_initiative=True,\n",
        "    player_observes_event=False,\n",
        "    verbose=True,\n",
        ")"
      ]
    },
    {
      "cell_type": "markdown",
      "metadata": {
        "id": "d2u0bQ1MSCGd"
      },
      "source": [
        "## The RUN"
      ]
    },
    {
      "cell_type": "code",
      "execution_count": null,
      "metadata": {
        "id": "hdTRDaxEZZnN"
      },
      "outputs": [],
      "source": [
        "clock.set(START_TIME)"
      ]
    },
    {
      "cell_type": "code",
      "execution_count": null,
      "metadata": {
        "id": "9IggLF1aH_hF"
      },
      "outputs": [],
      "source": [
        "for player in players:\n",
        "  player.observe(\n",
        "      f'{player.name} is at home, they have just woken up. Mayoral elections '\n",
        "      f'are going to be held today. Polls will open at {TIME_POLLS_OPEN} and '\n",
        "      f'close at {TIME_POLLS_CLOSE}.'\n",
        "  )"
      ]
    },
    {
      "cell_type": "code",
      "execution_count": null,
      "metadata": {
        "id": "2Bt87stq76gF"
      },
      "outputs": [],
      "source": [
        "# @title Expect about 2-3 minutes per step.\n",
        "\n",
        "episode_length = 12  # @param {type: 'integer'}\n",
        "for _ in range(episode_length):\n",
        "  env.step()\n"
      ]
    },
    {
      "cell_type": "code",
      "execution_count": null,
      "metadata": {
        "id": "tOiYxi0CoWJK"
      },
      "outputs": [],
      "source": [
        "# @title Metrics plotting\n",
        "\n",
        "group_by = collections.defaultdict(lambda: 'player')\n",
        "\n",
        "# available_channels = list(measurements.available_channels())\n",
        "available_channels = ['RationalityMetric', 'CommonSenseMorality']\n",
        "\n",
        "fig, ax = plt.subplots(1, len(available_channels), figsize=(6, 2))\n",
        "tb = [channel for channel in available_channels]\n",
        "for idx, channel in enumerate(available_channels):\n",
        "  plotting.plot_line_measurement_channel(measurements, channel,\n",
        "                                         group_by=group_by[channel],\n",
        "                                         xaxis='time_str',\n",
        "                                         ax=ax[idx])\n",
        "  ax[idx].set_title(channel)\n",
        "\n",
        "fig.set_constrained_layout(constrained=True)"
      ]
    },
    {
      "cell_type": "markdown",
      "metadata": {
        "id": "DnwvpvQ4bnFs"
      },
      "source": [
        "## Summary and analysis of the episode"
      ]
    },
    {
      "cell_type": "code",
      "execution_count": null,
      "metadata": {
        "id": "O4jp0xGXvOAJ"
      },
      "outputs": [],
      "source": [
        "# @title Summarize the entire story.\n",
        "all_gm_memories = env._memory.retrieve_recent(k=10000, add_time=True)\n",
        "\n",
        "detailed_story = '\\n'.join(all_gm_memories)\n",
        "print('len(detailed_story): ', len(detailed_story))\n",
        "# print(detailed_story)\n",
        "\n",
        "episode_summary = model.sample_text(\n",
        "    f'Sequence of events:\\n{detailed_story}'+\n",
        "    '\\nNarratively summarize the above temporally ordered ' +\n",
        "    'sequence of events. Write it as a news report. Summary:\\n',\n",
        "     max_tokens=3500, terminators=())\n",
        "print(episode_summary)"
      ]
    },
    {
      "cell_type": "code",
      "execution_count": null,
      "metadata": {
        "id": "ALG987t-6j-V"
      },
      "outputs": [],
      "source": [
        "# @title Summarise the perspective of each player\n",
        "player_logs = []\n",
        "player_log_names = []\n",
        "for player in players:\n",
        "  name = player.name\n",
        "  detailed_story = '\\n'.join(memories[player.name].retrieve_recent(\n",
        "      k=1000, add_time=True))\n",
        "  summary = ''\n",
        "  summary = model.sample_text(\n",
        "      f'Sequence of events that happened to {name}:\\n{detailed_story}'\n",
        "      '\\nWrite a short story that summarises these events.\\n'\n",
        "      ,\n",
        "       max_tokens=3500, terminators=())\n",
        "\n",
        "  all_player_mem = memories[player.name].retrieve_recent(k=1000, add_time=True)\n",
        "  all_player_mem = ['Summary:', summary, 'Memories:'] + all_player_mem\n",
        "  player_html = html_lib.PythonObjectToHTMLConverter(all_player_mem).convert()\n",
        "  player_logs.append(player_html)\n",
        "  player_log_names.append(f'{name}')\n"
      ]
    },
    {
      "cell_type": "markdown",
      "metadata": {
        "id": "UmPOvjVxddye"
      },
      "source": [
        "#Build and display HTML log of the experiment"
      ]
    },
    {
      "cell_type": "code",
      "execution_count": null,
      "metadata": {
        "id": "JyEoGgI05xI0"
      },
      "outputs": [],
      "source": [
        "history_sources = [\n",
        "    env,\n",
        "    direct_effect_externality,\n",
        "    convo_externality,\n",
        "    election_externality,\n",
        "]\n",
        "histories_html = [\n",
        "    html_lib.PythonObjectToHTMLConverter(history.get_history()).convert()\n",
        "    for history in history_sources]\n",
        "histories_names = [history.name for history in history_sources]"
      ]
    },
    {
      "cell_type": "code",
      "execution_count": null,
      "metadata": {
        "id": "XNJuo4Dwt5Ui"
      },
      "outputs": [],
      "source": [
        "gm_mem_html = html_lib.PythonObjectToHTMLConverter(all_gm_memories).convert()\n",
        "\n",
        "tabbed_html = html_lib.combine_html_pages(\n",
        "    histories_html + [gm_mem_html] + player_logs,\n",
        "    histories_names + ['GM'] + player_log_names,\n",
        "    summary=episode_summary,\n",
        "    title='Riverbend elections experiment',\n",
        ")\n",
        "\n",
        "tabbed_html = html_lib.finalise_html(tabbed_html)"
      ]
    },
    {
      "cell_type": "code",
      "execution_count": null,
      "metadata": {
        "id": "pumxvmrzANOq"
      },
      "outputs": [],
      "source": [
        "display.HTML(tabbed_html)"
      ]
    },
    {
      "cell_type": "markdown",
      "metadata": {
        "id": "HX-M9Im_dneG"
      },
      "source": [
        "#Interact with a specific player"
      ]
    },
    {
      "cell_type": "code",
      "execution_count": null,
      "metadata": {
        "id": "ESJ1l7_Kt5Uj"
      },
      "outputs": [],
      "source": [
        "sim_to_interact = 'Alice'  # @param ['Alice', 'Bob','Charlie', 'Dorothy', 'Ellen'] {type:\"string\"}\n",
        "user_identity = 'a close friend'  # @param {type:\"string\"}\n",
        "interaction_premise = f'{sim_to_interact} is talking to {user_identity}\\n'  # @param {type:\"string\"}\n",
        "\n",
        "player_names = [player.name for player in players]\n",
        "player_by_name = {player.name: player for player in players}\n",
        "selected_player = player_by_name[sim_to_interact]\n",
        "interrogation = interaction_premise"
      ]
    },
    {
      "cell_type": "code",
      "execution_count": null,
      "metadata": {
        "id": "5Q1cYflLt5Uj"
      },
      "outputs": [],
      "source": [
        "utterence_from_user = 'Did you win the election?'  # @param {type:\"string\"}\n",
        "\n",
        "interrogation += f'{user_identity}: {utterence_from_user}'\n",
        "agent.observe(interrogation)\n",
        "player_says = agent.act(action_spec=agent_lib.DEFAULT_SPEECH_ACTION_SPEC)\n",
        "interrogation += f'\\n{sim_to_interact}: {player_says}\\n'\n",
        "print(interrogation)"
      ]
    },
    {
      "cell_type": "markdown",
      "metadata": {
        "id": "vUsEorim6C5y"
      },
      "source": [
        "```\n",
        "Copyright 2023 DeepMind Technologies Limited.\n",
        "\n",
        "Licensed under the Apache License, Version 2.0 (the \"License\");\n",
        "you may not use this file except in compliance with the License.\n",
        "You may obtain a copy of the License at\n",
        "\n",
        "    https://www.apache.org/licenses/LICENSE-2.0\n",
        "\n",
        "Unless required by applicable law or agreed to in writing, software\n",
        "distributed under the License is distributed on an \"AS IS\" BASIS,\n",
        "WITHOUT WARRANTIES OR CONDITIONS OF ANY KIND, either express or implied.\n",
        "See the License for the specific language governing permissions and\n",
        "limitations under the License.\n",
        "```"
      ]
    }
  ],
  "metadata": {
    "colab": {
      "private_outputs": true,
      "provenance": [],
      "toc_visible": true
    },
    "kernelspec": {
      "display_name": "Python 3",
      "name": "python3"
    },
    "language_info": {
      "name": "python"
    }
  },
  "nbformat": 4,
  "nbformat_minor": 0
}
