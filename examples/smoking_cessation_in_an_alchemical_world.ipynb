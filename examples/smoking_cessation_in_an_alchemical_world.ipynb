{
  "cells": [
    {
      "cell_type": "markdown",
      "metadata": {
        "id": "zWgEkOAO9OVz"
      },
      "source": [
        "# An example involving an agent trying to quit smoking in a world that also includes arbitrary background details about alchemy.\n"
      ]
    },
    {
      "cell_type": "markdown",
      "metadata": {
        "id": "esFO3miE3s41"
      },
      "source": [
        "\u003ca href=\"https://colab.research.google.com/github/google-deepmind/concordia/blob/main/examples/smoking_cessation_in_an_alchemical_world.ipynb\" target=\"_parent\"\u003e\u003cimg src=\"https://colab.research.google.com/assets/colab-badge.svg\" alt=\"Open In Colab\"/\u003e\u003c/a\u003e"
      ]
    },
    {
      "cell_type": "markdown",
      "metadata": {
        "id": "J2TwJrZ08wXz"
      },
      "source": [
        "## Install packages and imports"
      ]
    },
    {
      "cell_type": "code",
      "execution_count": null,
      "metadata": {
        "id": "tkCJgbFFvaAB"
      },
      "outputs": [],
      "source": [
        "# @title Colab-specific setup (use a CodeSpace to avoid the need for this).\n",
        "try:\n",
        "  %env COLAB_RELEASE_TAG\n",
        "except:\n",
        "  pass  # Not running in colab.\n",
        "else:\n",
        "  %pip install --ignore-requires-python --requirement 'https://raw.githubusercontent.com/google-deepmind/concordia/main/examples/requirements.in' 'git+https://github.com/google-deepmind/concordia.git#egg=gdm-concordia'\n",
        "  %pip list"
      ]
    },
    {
      "cell_type": "code",
      "execution_count": null,
      "metadata": {
        "id": "-qLG5ExLqpWa"
      },
      "outputs": [],
      "source": [
        "# @title Imports\n",
        "\n",
        "import collections\n",
        "import concurrent.futures\n",
        "import datetime\n",
        "\n",
        "import matplotlib.pyplot as plt\n",
        "import numpy as np\n",
        "from IPython import display\n",
        "import sentence_transformers\n",
        "\n",
        "from concordia.agents import deprecated_agent as basic_agent\n",
        "from concordia.components.agent import to_be_deprecated as components\n",
        "from concordia import components as generic_components\n",
        "from concordia.associative_memory import associative_memory\n",
        "from concordia.associative_memory import blank_memories\n",
        "from concordia.associative_memory import formative_memories\n",
        "from concordia.associative_memory import importance_function\n",
        "from concordia.clocks import game_clock\n",
        "from concordia.components import game_master as gm_components\n",
        "from concordia.contrib.components.agent import to_be_deprecated as agent_contrib\n",
        "from concordia.contrib.components import game_master as gm_contrib\n",
        "from concordia.environment import game_master\n",
        "from concordia.metrics import goal_achievement\n",
        "from concordia.metrics import common_sense_morality\n",
        "from concordia.metrics import opinion_of_others\n",
        "from concordia.language_model import gpt_model\n",
        "from concordia.thought_chains import thought_chains as thought_chains_lib\n",
        "from concordia.utils import html as html_lib\n",
        "from concordia.utils import measurements as measurements_lib\n",
        "from concordia.utils import plotting\n",
        "\n",
        "import termcolor"
      ]
    },
    {
      "cell_type": "code",
      "execution_count": null,
      "metadata": {
        "id": "I3OtW8flCJSC"
      },
      "outputs": [],
      "source": [
        "# Setup sentence encoder\n",
        "st_model = sentence_transformers.SentenceTransformer(\n",
        "    'sentence-transformers/all-mpnet-base-v2')\n",
        "embedder = lambda x: st_model.encode(x, show_progress_bar=False)"
      ]
    },
    {
      "cell_type": "code",
      "execution_count": null,
      "metadata": {
        "id": "cugwvFIKv5AS"
      },
      "outputs": [],
      "source": [
        "# @title Language Model - pick your model and provide keys\n",
        "\n",
        "# By default this colab uses GPT-4, so you must provide an API key.\n",
        "# Note that it is also possible to use local models or other API models,\n",
        "# simply replace this cell with the correct initialization for the model\n",
        "# you want to use.\n",
        "GPT_API_KEY = '' #@param {type: 'string'}\n",
        "GPT_MODEL_NAME = 'gpt-4o' #@param {type: 'string'}\n",
        "\n",
        "if not GPT_API_KEY:\n",
        "  raise ValueError('GPT_API_KEY is required.')\n",
        "\n",
        "model = gpt_model.GptLanguageModel(api_key=GPT_API_KEY,\n",
        "                                   model_name=GPT_MODEL_NAME)\n"
      ]
    },
    {
      "cell_type": "markdown",
      "metadata": {
        "id": "ZP49rm1dC92V"
      },
      "source": [
        "# Setup"
      ]
    },
    {
      "cell_type": "code",
      "execution_count": null,
      "metadata": {
        "id": "TeVYseoD2WYa"
      },
      "outputs": [],
      "source": [
        "#@title Make the clock\n",
        "TIME_STEP = datetime.timedelta(minutes=20)\n",
        "SETUP_TIME = datetime.datetime(hour=20, year=2024, month=10, day=1)\n",
        "\n",
        "START_TIME = datetime.datetime(hour=12, year=2024, month=10, day=2)\n",
        "clock = game_clock.MultiIntervalClock(\n",
        "    start=SETUP_TIME,\n",
        "    step_sizes=[TIME_STEP, datetime.timedelta(seconds=10)])\n"
      ]
    },
    {
      "cell_type": "code",
      "execution_count": null,
      "metadata": {
        "id": "otZ6Xg6BnohY"
      },
      "outputs": [],
      "source": [
        "#@title Importance models\n",
        "importance_model = importance_function.AgentImportanceModel(model)\n",
        "importance_model_gm = importance_function.ConstantImportanceModel()\n"
      ]
    },
    {
      "cell_type": "code",
      "execution_count": null,
      "metadata": {
        "id": "b8vWoQ6by51N"
      },
      "outputs": [],
      "source": [
        "# @title Generic memories are memories that all players and GM share.\n",
        "\n",
        "shared_memories = [\n",
        "    'Riverbend is a small town.',\n",
        "    ('There is a general store in Riverbend called The Oddments and Oddities ' +\n",
        "     'Emporium.'),\n",
        "    'Alice works in the general store.',\n",
        "    'The Oddments and Oddities Emporium sells cigarettes',\n",
        "    'The usual price of a pack of cigarettes is $10.',\n",
        "]\n",
        "\n",
        "# The generic context will be used for the NPC context. It reflects general\n",
        "# knowledge and is possessed by all characters.\n",
        "shared_context = model.sample_text(\n",
        "    'Summarize the following passage in a concise and insightful fashion:\\n'\n",
        "    + '\\n'.join(shared_memories)\n",
        "    + '\\n'\n",
        "    + 'Summary:'\n",
        ")\n",
        "print(shared_context)\n"
      ]
    },
    {
      "cell_type": "code",
      "execution_count": null,
      "metadata": {
        "id": "nyXtyY6O7DW1"
      },
      "outputs": [],
      "source": [
        "#@title Seed some interesting world building elements\n",
        "\n",
        "# These world building elements were drawn from the following book:\n",
        "#    Roob, Alexander. (2021). Alchemy \u0026 Mysticism. Taschen.\n",
        "# They are not exact quotes from the book, and the statements, such as they are,\n",
        "# do not accurately portray alchemical \"knowledge\" (JZL permuted their words and\n",
        "# ideas).\n",
        "\n",
        "\n",
        "world_building_elements = [\n",
        "    (\n",
        "        'The region is full of darkness on account of an incorrect application '\n",
        "        'of Joachim of Fiore\\'s doctrines concerning Sal Alkali, the light '\n",
        "        'of nature, a green dragon, and a philosopher\\'s mercury. Only one as '\n",
        "        'pure as a child may discover the treasure of Sal Alkali.'\n",
        "    ),\n",
        "    (\n",
        "        'Nine philosophers on a ladder may embody the nine doubts in a '\n",
        "        'nine-object realm of the universe. A ladder with thirty rungs '\n",
        "        'represents the thirty virtues declared by John Kilmakos of Sinai.'\n",
        "    ),\n",
        "    (\n",
        "        'The Lunar Vulcan is a secret fire formed by salts of the dew. '\n",
        "        'It is said that once perfected, this fire may be able to revive '\n",
        "        'the dead. It must be entrusted to digestion.'\n",
        "    ),\n",
        "    (\n",
        "        'According to the Rosarium Philosophorum, the pelican feeds its young '\n",
        "        'with blood. It symbolizes the final phase of the Multiplicatio.'\n",
        "    ),\n",
        "    (\n",
        "        'The immortal Rebis may rise as one from a putrified grave, attended '\n",
        "        'by ravens and adorned in philosophical gold and silver. Ulmannus '\n",
        "        'spoke of an inward, spiritual sun embodying the divine Caduceus.'\n",
        "    ),\n",
        "    (\n",
        "        'In the Ars Magna Lucis et Umbrae it is explained how the ladder of '\n",
        "        'the number ten is divided and inscribed with the names of the '\n",
        "        'Sefirot. In contrast, the Opus Magnum depicts the Sefirot in '\n",
        "        'association with a tree, not a ladder.'\n",
        "    ),\n",
        "    (\n",
        "        'Isidore of Seville found the Aurora Consurgens, and in its pages, '\n",
        "        'he discovered the most remarkable truth: that a thing cannot be '\n",
        "        'changed into another of a different nature without first being '\n",
        "        'transformed into ash, lime, earth, or bile.'\n",
        "    ),\n",
        "    # The last of these elements was generated by an LLM (Claude 3). It is\n",
        "    # related to addiction so it can form a bridge between the environment's\n",
        "    # two themes: smoking cessation and alchemy.\n",
        "    (\n",
        "        'In Rosicrucian lore, the path to liberate the soul from addiction\\'s '\n",
        "        'earthly chains echoes the Magnum Opus. The nigredo plunges the addict '\n",
        "        'into the abyss, their essence putrefied in the crucible of anguish. '\n",
        "        'Amidst this darkness, hope sparkles in the albedo, as the soul is '\n",
        "        'purified in sacred flames, transmuting leaden vice into silver '\n",
        "        'virtue. At last, the rubedo dawns, the addict\\'s spirit perfected, '\n",
        "        'merged with the divine, reborn in luminous freedom, forever '\n",
        "        'unshackled from the throes of their former sin.'\n",
        "    ),\n",
        "]\n",
        "\n",
        "def get_world_element() -\u003e str:\n",
        "  return np.random.choice(world_building_elements)"
      ]
    },
    {
      "cell_type": "markdown",
      "metadata": {
        "id": "dGwXtHiGn8H3"
      },
      "source": [
        "## Configure and build the players\n",
        "\n",
        "---\n",
        "\n"
      ]
    },
    {
      "cell_type": "code",
      "execution_count": null,
      "metadata": {
        "id": "QHJ25gnUn0y6"
      },
      "outputs": [],
      "source": [
        "blank_memory_factory = blank_memories.MemoryFactory(\n",
        "    model=model,\n",
        "    embedder=embedder,\n",
        "    importance=importance_model.importance,\n",
        "    clock_now=clock.now,\n",
        ")\n",
        "\n",
        "formative_memory_factory = formative_memories.FormativeMemoryFactory(\n",
        "    model=model,\n",
        "    shared_memories=shared_memories,\n",
        "    blank_memory_factory_call=blank_memory_factory.make_blank_memory,\n",
        ")"
      ]
    },
    {
      "cell_type": "markdown",
      "metadata": {
        "id": "YBCXUQ8sayzj"
      },
      "source": [
        "## Functions to build the players"
      ]
    },
    {
      "cell_type": "code",
      "execution_count": null,
      "metadata": {
        "id": "NkgQEQ4JoDtZ"
      },
      "outputs": [],
      "source": [
        "def build_agent(agent_config,\n",
        "                player_names: list[str],\n",
        "                measurements: measurements_lib.Measurements | None = None):\n",
        "\n",
        "  mem = formative_memory_factory.make_memories(agent_config)\n",
        "\n",
        "  agent_name = agent_config.name\n",
        "  instructions = generic_components.constant.ConstantComponent(\n",
        "      state=(\n",
        "          f'The instructions for how to play the role of {agent_name} are as '\n",
        "          'follows. This is a social science experiment studying how well you '\n",
        "          f'play the role of a character named {agent_name}. The experiment '\n",
        "          'is structured as a tabletop roleplaying game (like dungeons and '\n",
        "          'dragons). However, in this case it is a serious social science '\n",
        "          'experiment and simulation. The goal is to be realistic. It is '\n",
        "          f'important to play the role of a person like {agent_name} as '\n",
        "          f'accurately as possible, i.e., by responding in ways that you think '\n",
        "          f'it is likely a person like {agent_name} would respond, and taking '\n",
        "          f'into account all information about {agent_name} that you have. '\n",
        "          'Always use third-person limited perspective.'\n",
        "      ),\n",
        "      name='role playing instructions\\n')\n",
        "\n",
        "  time = generic_components.report_function.ReportFunction(\n",
        "      name='Current time',\n",
        "      function=clock.current_time_interval_str,\n",
        "  )\n",
        "\n",
        "  current_obs = components.observation.Observation(\n",
        "      agent_name=agent_config.name,\n",
        "      clock_now=clock.now,\n",
        "      memory=mem,\n",
        "      timeframe=clock.get_step_size(),\n",
        "      component_name='current observations',\n",
        "  )\n",
        "  somatic_state = components.somatic_state.SomaticState(\n",
        "      model=model,\n",
        "      memory=mem,\n",
        "      agent_name=agent_config.name,\n",
        "      clock_now=clock.now,\n",
        "  )\n",
        "  summary_obs = components.observation.ObservationSummary(\n",
        "      agent_name=agent_config.name,\n",
        "      model=model,\n",
        "      clock_now=clock.now,\n",
        "      memory=mem,\n",
        "      components=[current_obs, somatic_state],\n",
        "      timeframe_delta_from=datetime.timedelta(hours=4),\n",
        "      timeframe_delta_until=datetime.timedelta(hours=1),\n",
        "      component_name='summary of observations',\n",
        "  )\n",
        "\n",
        "  illness_sense = agent_contrib.illness_representation.IllnessRepresentation(\n",
        "      name='consideration',\n",
        "      model=model,\n",
        "      memory=mem,\n",
        "      agent_name=agent_config.name,\n",
        "      components=[current_obs, somatic_state],\n",
        "      clock_now=clock.now,\n",
        "      num_memories_to_retrieve=25,\n",
        "  )\n",
        "\n",
        "  self_perception = components.self_perception.SelfPerception(\n",
        "      name=f'answer to what kind of person is {agent_config.name}',\n",
        "      model=model,\n",
        "      memory=mem,\n",
        "      agent_name=agent_config.name,\n",
        "      clock_now=clock.now,\n",
        "  )\n",
        "  situation_perception = components.situation_perception.SituationPerception(\n",
        "      name=(f'answer to what kind of situation is {agent_config.name} in ' +\n",
        "            'right now'),\n",
        "      model=model,\n",
        "      memory=mem,\n",
        "      agent_name=agent_config.name,\n",
        "      components=[current_obs, illness_sense],\n",
        "      clock_now=clock.now,\n",
        "  )\n",
        "  person_by_situation = components.person_by_situation.PersonBySituation(\n",
        "      name=(f'answer to what would a person like {agent_config.name} do in a ' +\n",
        "            'situation like this'),\n",
        "      model=model,\n",
        "      memory=mem,\n",
        "      agent_name=agent_config.name,\n",
        "      clock_now=clock.now,\n",
        "      components=[self_perception, situation_perception],\n",
        "      verbose=True,\n",
        "  )\n",
        "\n",
        "  persona = generic_components.sequential.Sequential(\n",
        "      name='persona',\n",
        "      components=[\n",
        "          self_perception,\n",
        "          situation_perception,\n",
        "          person_by_situation,\n",
        "      ]\n",
        "  )\n",
        "\n",
        "  relevant_memories = components.all_similar_memories.AllSimilarMemories(\n",
        "      name='relevant memories',\n",
        "      model=model,\n",
        "      memory=mem,\n",
        "      agent_name=agent_config.name,\n",
        "      components=[summary_obs, persona],\n",
        "      clock_now=clock.now,\n",
        "      num_memories_to_retrieve=25,\n",
        "      verbose=False,\n",
        "  )\n",
        "\n",
        "  justification_components = components.justify_recent_voluntary_actions\n",
        "  justification = justification_components.JustifyRecentVoluntaryActions(\n",
        "      name='justification',\n",
        "      model=model,\n",
        "      memory=mem,\n",
        "      agent_name=agent_config.name,\n",
        "      components=[persona, somatic_state, relevant_memories],\n",
        "      clock_now=clock.now,\n",
        "      verbose=True,\n",
        "  )\n",
        "  reflection = components.dialectical_reflection.DialecticalReflection(\n",
        "      name='reflection',\n",
        "      model=model,\n",
        "      memory=mem,\n",
        "      agent_name=agent_config.name,\n",
        "      intuition_components=[self_perception, justification],\n",
        "      thinking_components=[persona],\n",
        "      clock_now=clock.now,\n",
        "      num_memories_to_retrieve=5,\n",
        "      verbose=True,\n",
        "  )\n",
        "\n",
        "  initial_goal_component = generic_components.constant.ConstantComponent(\n",
        "      state=agent_config.goal, name='overarching goal')\n",
        "  plan = components.plan.SimPlan(\n",
        "      model,\n",
        "      mem,\n",
        "      agent_config.name,\n",
        "      clock_now=clock.now,\n",
        "      components=[initial_goal_component, relevant_memories, persona],\n",
        "      goal=person_by_situation,\n",
        "      horizon='the next hour',\n",
        "      verbose=True,\n",
        "  )\n",
        "\n",
        "  goal_metric = goal_achievement.GoalAchievementMetric(\n",
        "      model=model,\n",
        "      player_name=agent_config.name,\n",
        "      player_goal=agent_config.goal,\n",
        "      clock=clock,\n",
        "      name='Goal Achievement',\n",
        "      measurements=measurements,\n",
        "      channel='goal_achievement',\n",
        "      verbose=False,\n",
        "  )\n",
        "  morality_metric = common_sense_morality.CommonSenseMoralityMetric(\n",
        "      model=model,\n",
        "      player_name=agent_config.name,\n",
        "      clock=clock,\n",
        "      name='Morality',\n",
        "      verbose=False,\n",
        "      measurements=measurements,\n",
        "      channel='common_sense_morality',\n",
        "  )\n",
        "  agent = basic_agent.BasicAgent(\n",
        "      model,\n",
        "      agent_name=agent_config.name,\n",
        "      clock=clock,\n",
        "      verbose=False,\n",
        "      components=[instructions,\n",
        "                  persona,\n",
        "                  plan,\n",
        "                  relevant_memories,\n",
        "                  justification,\n",
        "                  reflection,\n",
        "                  time,\n",
        "                  current_obs,\n",
        "                  goal_metric,\n",
        "                  morality_metric],\n",
        "      update_interval = TIME_STEP\n",
        "  )\n",
        "  reputation_metric = opinion_of_others.OpinionOfOthersMetric(\n",
        "      model=model,\n",
        "      player_name=agent_config.name,\n",
        "      player_names=player_names,\n",
        "      context_fn=agent.state,\n",
        "      clock=clock,\n",
        "      name='Opinion',\n",
        "      verbose=False,\n",
        "      measurements=measurements,\n",
        "      channel='opinion_of_others',\n",
        "      question='What is {opining_player}\\'s opinion of {of_player}?',\n",
        "  )\n",
        "  agent.add_component(reputation_metric)\n",
        "  return agent, mem\n"
      ]
    },
    {
      "cell_type": "code",
      "execution_count": null,
      "metadata": {
        "id": "5D2eNjeBxOKS"
      },
      "outputs": [],
      "source": [
        "PERSONALITY_TRAITS = [\n",
        "    \"Aggressive\",\n",
        "    \"Optimistic\",\n",
        "    \"Kind\",\n",
        "    \"Resilient\",\n",
        "    \"Humorous\",\n",
        "    \"Empathetic\",\n",
        "    \"Ambitious\",\n",
        "    \"Honest\",\n",
        "    \"Loyal\",\n",
        "    \"Pessimistic\",\n",
        "    \"Arrogant\",\n",
        "    \"Impulsive\",\n",
        "    \"Jealous\",\n",
        "    \"Manipulative\",\n",
        "    \"Creative\",\n",
        "    \"Analytical\",\n",
        "    \"Confident\",\n",
        "    \"Passionate\",\n",
        "    \"Anxious\",\n",
        "    \"Closed-minded\",\n",
        "    \"Deceitful\",\n",
        "    \"Insecure\",\n",
        "    \"Irresponsible\",\n",
        "    \"Vindictive\",\n",
        "    \"Curious\",\n",
        "    \"Energetic\",\n",
        "    \"Sarcastic\",\n",
        "]\n",
        "\n",
        "def get_trait() -\u003e str:\n",
        "  return np.random.choice(PERSONALITY_TRAITS)"
      ]
    },
    {
      "cell_type": "markdown",
      "metadata": {
        "id": "qt8CK2mMbD7q"
      },
      "source": [
        "## Configure and build the players"
      ]
    },
    {
      "cell_type": "code",
      "execution_count": null,
      "metadata": {
        "id": "YxexdZ6XoR2K"
      },
      "outputs": [],
      "source": [
        "#@title Creating character backgrounds, goals and traits.\n",
        "player_configs = [\n",
        "    formative_memories.AgentConfig(\n",
        "        name='Alice',\n",
        "        gender='female',\n",
        "        goal='Alice wants to sell as many cigarettes as possible.',\n",
        "        context=('Alice is passionate about selling cigarettes.\\n' +\n",
        "                 'Alice does not believe smoking is harmful to health.\\n' +\n",
        "                 'Alice is a smoker.\\n' +\n",
        "                 f'Furthermore, Alice is aware that {get_world_element()} ' +\n",
        "                 f'and that {get_world_element()}'),\n",
        "        traits=f'traits: {get_trait()}, {get_trait()}, and {get_trait()}',\n",
        "        extras={'initial_endowment': {'money': 20.0, 'cigarettes': 100.0},},\n",
        "    ),\n",
        "    formative_memories.AgentConfig(\n",
        "        name='Bob',\n",
        "        gender='male',\n",
        "        goal='Bob wants to quit smoking.',\n",
        "        context=('Bob has been a smoker for many years, and is addicted.\\n' +\n",
        "                 f'Furthermore, Bob is aware that {get_world_element()} ' +\n",
        "                 f'and that {get_world_element()}'),\n",
        "        traits=f'traits: {get_trait()}, {get_trait()}, and {get_trait()}',\n",
        "        extras={'initial_endowment': {'money': 75.0, 'cigarettes': 1.0},},\n",
        "    ),\n",
        "    formative_memories.AgentConfig(\n",
        "        name='Charlie',\n",
        "        gender='male',\n",
        "        goal='Charlie wants to continue smoking, and thinks others should too.',\n",
        "        context=('Charlie has been a smoker for many years, and is '\n",
        "                 'addicted.\\n' +\n",
        "                 f'Furthermore, Charlie is aware that {get_world_element()} ' +\n",
        "                 f'and that {get_world_element()}'),\n",
        "        traits=f'traits: {get_trait()}, {get_trait()}, and {get_trait()}',\n",
        "        extras={'initial_endowment': {'money': 5.0, 'cigarettes': 0.0},},\n",
        "    ),\n",
        "    formative_memories.AgentConfig(\n",
        "        name='Dorothy',\n",
        "        gender='female',\n",
        "        goal='Dorothy wants to help Bob quit smoking.',\n",
        "        context=('Dorothy is secretly in love with Bob.\\n' +\n",
        "                 'Dorothy does not smoke.\\n' +\n",
        "                 'Dorothy believes secondhand smoke is dangerous to health.\\n' +\n",
        "                 'Dorothy is disgusted by smoking.\\n' +\n",
        "                 f'Furthermore, Dorothy is aware that: {get_world_element()} ' +\n",
        "                 f'and that {get_world_element()}'),\n",
        "        traits=f'traits: {get_trait()}, {get_trait()}, and {get_trait()}',\n",
        "        extras={'initial_endowment': {'money': 50.0, 'cigarettes': 0.0},},\n",
        "    ),\n",
        "]\n",
        "\n",
        "NUM_PLAYERS = len(player_configs)"
      ]
    },
    {
      "cell_type": "code",
      "execution_count": null,
      "metadata": {
        "id": "b0vQg5tVqlcs"
      },
      "outputs": [],
      "source": [
        "player_configs = player_configs[:NUM_PLAYERS]\n",
        "player_names = [player.name for player in player_configs][:NUM_PLAYERS]\n",
        "measurements = measurements_lib.Measurements()\n",
        "\n",
        "players = []\n",
        "memories = {}\n",
        "\n",
        "with concurrent.futures.ThreadPoolExecutor(max_workers=NUM_PLAYERS) as pool:\n",
        "  for agent, mem in pool.map(build_agent,\n",
        "                             player_configs[:NUM_PLAYERS],\n",
        "                             # All players get the same `player_names`.\n",
        "                             [player_names] * NUM_PLAYERS,\n",
        "                             # All players get the same `measurements` object.\n",
        "                             [measurements] * NUM_PLAYERS):\n",
        "    players.append(agent)\n",
        "    memories[agent.name] = mem\n"
      ]
    },
    {
      "cell_type": "markdown",
      "metadata": {
        "id": "2vt8ggYUrW8M"
      },
      "source": [
        "## Build GM"
      ]
    },
    {
      "cell_type": "code",
      "execution_count": null,
      "metadata": {
        "id": "3W65kHOKQwrv"
      },
      "outputs": [],
      "source": [
        "game_master_memory = associative_memory.AssociativeMemory(\n",
        "   sentence_embedder=embedder,\n",
        "   importance=importance_model_gm.importance,\n",
        "   clock=clock.now)"
      ]
    },
    {
      "cell_type": "code",
      "execution_count": null,
      "metadata": {
        "id": "-cxivChc633z"
      },
      "outputs": [],
      "source": [
        "# @title Create components of the Game Master\n",
        "player_names = [player.name for player in players]\n",
        "\n",
        "scenario_knowledge = generic_components.constant.ConstantComponent(\n",
        "    state=' '.join(shared_memories),\n",
        "    name='Background')\n",
        "time_display=generic_components.report_function.ReportFunction(\n",
        "    name='Current time',\n",
        "    function=clock.current_time_interval_str,\n",
        "  )\n",
        "\n",
        "ItemTypeConfig = gm_components.inventory.ItemTypeConfig\n",
        "money_config = ItemTypeConfig(name='money')\n",
        "cigarettes_config = ItemTypeConfig(\n",
        "    name='cigarettes', minimum=0, maximum=np.inf, force_integer=True)\n",
        "player_initial_endowments = {\n",
        "    config.name: config.extras['initial_endowment']\n",
        "    for config in player_configs}\n",
        "inventories = gm_components.inventory.Inventory(\n",
        "    model=model,\n",
        "    memory=game_master_memory,\n",
        "    item_type_configs=[money_config, cigarettes_config],\n",
        "    players=players,\n",
        "    player_initial_endowments=player_initial_endowments,\n",
        "    clock_now=clock.now,\n",
        "    financial=True,\n",
        "    name='Inventory',\n",
        "    verbose=True,\n",
        ")\n",
        "\n",
        "player_status = gm_components.player_status.PlayerStatus(\n",
        "    clock_now=clock.now,\n",
        "    model=model,\n",
        "    memory=game_master_memory,\n",
        "    player_names=player_names)\n",
        "\n",
        "world_background = (\n",
        "    gm_contrib.world_background_and_relevance.WorldBackgroundAndRelevance(\n",
        "        name='relevant background knowledge',\n",
        "        model=model,\n",
        "        memory=game_master_memory,\n",
        "        # Mix the world-building elements with the shared memories\n",
        "        world_building_elements=world_building_elements + shared_memories,\n",
        "        players=players,\n",
        "        components=[scenario_knowledge,\n",
        "                    player_status,\n",
        "                    inventories],\n",
        "        clock_now=clock.now,\n",
        "        num_factoids=30,\n",
        "        num_memories_to_retrieve=25,\n",
        "        verbose=True,\n",
        "))\n",
        "\n",
        "convo_externality = gm_components.conversation.Conversation(\n",
        "    players=players,\n",
        "    model=model,\n",
        "    memory=game_master_memory,\n",
        "    clock=clock,\n",
        "    burner_memory_factory=blank_memory_factory,\n",
        "    components=[player_status, inventories],\n",
        "    allow_self_talk=True,\n",
        "    cap_nonplayer_characters=3,\n",
        "    shared_context=shared_context,\n",
        "    verbose=False,\n",
        ")\n",
        "\n",
        "direct_effect_externality = gm_components.direct_effect.DirectEffect(\n",
        "    players=players,\n",
        "    model=model,\n",
        "    memory=game_master_memory,\n",
        "    clock_now=clock.now,\n",
        "    verbose=False,\n",
        "    components=[player_status, inventories, world_background]\n",
        ")"
      ]
    },
    {
      "cell_type": "code",
      "execution_count": null,
      "metadata": {
        "id": "OtT8zqv4hHVL"
      },
      "outputs": [],
      "source": [
        "# @title Create the game master's thought chain\n",
        "account_for_agency_of_others = thought_chains_lib.AccountForAgencyOfOthers(\n",
        "    model=model, players=players, verbose=False)\n",
        "thought_chain = [\n",
        "    thought_chains_lib.extract_direct_quote,\n",
        "    thought_chains_lib.attempt_to_most_likely_outcome,\n",
        "    thought_chains_lib.result_to_effect_caused_by_active_player,\n",
        "    account_for_agency_of_others,\n",
        "    thought_chains_lib.restore_direct_quote,\n",
        "]"
      ]
    },
    {
      "cell_type": "code",
      "execution_count": null,
      "metadata": {
        "id": "d_R2BVNOsAwa"
      },
      "outputs": [],
      "source": [
        "# @title Create the game master object\n",
        "env = game_master.GameMaster(\n",
        "    model=model,\n",
        "    memory=game_master_memory,\n",
        "    clock=clock,\n",
        "    players=players,\n",
        "    update_thought_chain=thought_chain,\n",
        "    components=[\n",
        "        scenario_knowledge,\n",
        "        world_background,\n",
        "        player_status,\n",
        "        convo_externality,\n",
        "        direct_effect_externality,\n",
        "        inventories,\n",
        "        time_display,\n",
        "    ],\n",
        "    randomise_initiative=True,\n",
        "    player_observes_event=False,\n",
        "    verbose=True,\n",
        ")"
      ]
    },
    {
      "cell_type": "markdown",
      "metadata": {
        "id": "d2u0bQ1MSCGd"
      },
      "source": [
        "## The RUN"
      ]
    },
    {
      "cell_type": "code",
      "execution_count": null,
      "metadata": {
        "id": "hdTRDaxEZZnN"
      },
      "outputs": [],
      "source": [
        "clock.set(START_TIME)"
      ]
    },
    {
      "cell_type": "code",
      "execution_count": null,
      "metadata": {
        "id": "9IggLF1aH_hF"
      },
      "outputs": [],
      "source": [
        "for player in players:\n",
        "  game_master_memory.add(\n",
        "      f'{player.name} is at The Oddments and Oddities Emporium.')\n",
        "\n",
        "scenario_premise = (\n",
        "    'Alice, Bob, and Charlie are at The Oddments and Oddities '\n",
        "    'Emporium.'\n",
        ")\n",
        "game_master_memory.add(scenario_premise)"
      ]
    },
    {
      "cell_type": "code",
      "execution_count": null,
      "metadata": {
        "id": "HIFEzzs5pAJW"
      },
      "outputs": [],
      "source": [
        "for player in players:\n",
        "  player.observe(scenario_premise)"
      ]
    },
    {
      "cell_type": "code",
      "execution_count": null,
      "metadata": {
        "id": "2Bt87stq76gF"
      },
      "outputs": [],
      "source": [
        "# @title Expect about 2-3 minutes per step.\n",
        "episode_length = 8  # @param {type: 'integer'}\n",
        "for _ in range(episode_length):\n",
        "  env.step()\n"
      ]
    },
    {
      "cell_type": "markdown",
      "metadata": {
        "id": "DnwvpvQ4bnFs"
      },
      "source": [
        "## Summary and analysis of the episode"
      ]
    },
    {
      "cell_type": "code",
      "execution_count": null,
      "metadata": {
        "id": "5U5FDXvs4HSr"
      },
      "outputs": [],
      "source": [
        "# @title Metrics plotting\n",
        "\n",
        "group_by = collections.defaultdict(lambda: 'player')\n",
        "group_by['opinion_of_others'] = 'of_player'\n",
        "\n",
        "available_channels = list(measurements.available_channels())\n",
        "\n",
        "fig, ax = plt.subplots(1, len(available_channels), figsize=(6, 2))\n",
        "tb = [channel for channel in available_channels]\n",
        "for idx, channel in enumerate(available_channels):\n",
        "  plotting.plot_line_measurement_channel(measurements, channel,\n",
        "                                         group_by=group_by[channel],\n",
        "                                         xaxis='time_str',\n",
        "                                         ax=ax[idx])\n",
        "  ax[idx].set_title(channel)\n",
        "\n",
        "fig.set_constrained_layout(constrained=True)"
      ]
    },
    {
      "cell_type": "markdown",
      "metadata": {
        "id": "j71OiuPot5UV"
      },
      "source": [
        "#Build and display HTML log of the experiment"
      ]
    },
    {
      "cell_type": "markdown",
      "metadata": {
        "id": "MjTaygwtxzX5"
      },
      "source": [
        "## Prepare to visualize text results with HTML"
      ]
    },
    {
      "cell_type": "code",
      "execution_count": null,
      "metadata": {
        "id": "O4jp0xGXvOAJ"
      },
      "outputs": [],
      "source": [
        "# @title Summarize the entire story.\n",
        "all_gm_memories = env._memory.retrieve_recent(k=10000, add_time=True)\n",
        "\n",
        "detailed_story = '\\n'.join(all_gm_memories)\n",
        "print('len(detailed_story): ', len(detailed_story))\n",
        "# print(detailed_story)\n",
        "\n",
        "episode_summary = model.sample_text(\n",
        "    f'Sequence of events:\\n{detailed_story}'+\n",
        "    '\\nNarratively summarize the above temporally ordered ' +\n",
        "    'sequence of events. Write it as a news report. Summary:\\n',\n",
        "     max_tokens=8000, terminators=())\n",
        "print(episode_summary)"
      ]
    },
    {
      "cell_type": "code",
      "execution_count": null,
      "metadata": {
        "id": "ALG987t-6j-V"
      },
      "outputs": [],
      "source": [
        "# @title Summarise the perspective of each player\n",
        "player_logs = []\n",
        "player_log_names = []\n",
        "for player in players:\n",
        "  name = player.name\n",
        "  detailed_story = '\\n'.join(memories[player.name].retrieve_recent(\n",
        "      k=1000, add_time=True))\n",
        "  summary = ''\n",
        "  summary = model.sample_text(\n",
        "      f'Sequence of events that happened to {name}:\\n{detailed_story}'\n",
        "      '\\nWrite a short story that summarises these events.\\n'\n",
        "      ,\n",
        "       max_tokens=8000, terminators=())\n",
        "\n",
        "  all_player_mem = memories[player.name].retrieve_recent(k=1000, add_time=True)\n",
        "  all_player_mem = ['Summary:', summary, 'Memories:'] + all_player_mem\n",
        "  player_html = html_lib.PythonObjectToHTMLConverter(all_player_mem).convert()\n",
        "  player_logs.append(player_html)\n",
        "  player_log_names.append(f'{name}')"
      ]
    },
    {
      "cell_type": "code",
      "execution_count": null,
      "metadata": {
        "id": "JyEoGgI05xI0"
      },
      "outputs": [],
      "source": [
        "history_sources = [env, direct_effect_externality, convo_externality]\n",
        "histories_html = [\n",
        "    html_lib.PythonObjectToHTMLConverter(history.get_history()).convert()\n",
        "    for history in history_sources]\n",
        "histories_names = [history.name for history in history_sources]"
      ]
    },
    {
      "cell_type": "code",
      "execution_count": null,
      "metadata": {
        "id": "XNJuo4Dwt5Ui"
      },
      "outputs": [],
      "source": [
        "gm_mem_html = html_lib.PythonObjectToHTMLConverter(all_gm_memories).convert()\n",
        "\n",
        "results_log_html = html_lib.combine_html_pages(\n",
        "    histories_html + [gm_mem_html] + player_logs,\n",
        "    histories_names + ['GM'] + player_log_names,\n",
        "    summary=episode_summary,\n",
        "    title='Smoking cessation experiment',\n",
        ")\n",
        "results_log_html = html_lib.finalise_html(results_log_html)"
      ]
    },
    {
      "cell_type": "code",
      "execution_count": null,
      "metadata": {
        "id": "pumxvmrzANOq"
      },
      "outputs": [],
      "source": [
        "# @title Display the HTML log visualization\n",
        "display.HTML(results_log_html)"
      ]
    },
    {
      "cell_type": "markdown",
      "metadata": {
        "id": "HX-M9Im_dneG"
      },
      "source": [
        "#Interact with a specific player"
      ]
    },
    {
      "cell_type": "code",
      "execution_count": null,
      "metadata": {
        "id": "ESJ1l7_Kt5Uj"
      },
      "outputs": [],
      "source": [
        "sim_to_interact = 'Alice'  # @param ['Alice', 'Bob','Charlie', 'Dorothy', 'Ellen'] {type:\"string\"}\n",
        "user_identity = 'a close friend'  # @param {type:\"string\"}\n",
        "interaction_premise = f'{sim_to_interact} is talking to {user_identity}\\n'  # @param {type:\"string\"}\n",
        "\n",
        "player_names = [player.name for player in players]\n",
        "player_by_name = {player.name: player for player in players}\n",
        "selected_player = player_by_name[sim_to_interact]\n",
        "interrogation = interaction_premise"
      ]
    },
    {
      "cell_type": "code",
      "execution_count": null,
      "metadata": {
        "id": "5Q1cYflLt5Uj"
      },
      "outputs": [],
      "source": [
        "utterence_from_user = 'Did you manage to sell any cigarettes?'  # @param {type:\"string\"}\n",
        "\n",
        "interrogation += f'{user_identity}: {utterence_from_user}'\n",
        "player_says = selected_player.say(interrogation)\n",
        "interrogation += f'\\n{sim_to_interact}: {player_says}\\n'\n",
        "print(interrogation)"
      ]
    },
    {
      "cell_type": "markdown",
      "metadata": {
        "id": "NjTpSjfiyJir"
      },
      "source": [
        "```\n",
        "Copyright 2024 DeepMind Technologies Limited.\n",
        "\n",
        "Licensed under the Apache License, Version 2.0 (the \"License\");\n",
        "you may not use this file except in compliance with the License.\n",
        "You may obtain a copy of the License at\n",
        "\n",
        "    https://www.apache.org/licenses/LICENSE-2.0\n",
        "\n",
        "Unless required by applicable law or agreed to in writing, software\n",
        "distributed under the License is distributed on an \"AS IS\" BASIS,\n",
        "WITHOUT WARRANTIES OR CONDITIONS OF ANY KIND, either express or implied.\n",
        "See the License for the specific language governing permissions and\n",
        "limitations under the License.\n",
        "```"
      ]
    }
  ],
  "metadata": {
    "colab": {
      "last_runtime": {
        "build_target": "",
        "kind": "private"
      },
      "private_outputs": true,
      "provenance": [],
      "toc_visible": true
    },
    "kernelspec": {
      "display_name": "Python 3",
      "name": "python3"
    },
    "language_info": {
      "name": "python"
    }
  },
  "nbformat": 4,
  "nbformat_minor": 0
}
